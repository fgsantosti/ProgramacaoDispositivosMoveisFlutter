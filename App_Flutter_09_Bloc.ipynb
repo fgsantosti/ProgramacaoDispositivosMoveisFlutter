{
  "nbformat": 4,
  "nbformat_minor": 0,
  "metadata": {
    "colab": {
      "provenance": [],
      "authorship_tag": "ABX9TyNbwrkLjl3lM6CPJeFaWQhI",
      "include_colab_link": true
    },
    "kernelspec": {
      "name": "python3",
      "display_name": "Python 3"
    },
    "language_info": {
      "name": "python"
    }
  },
  "cells": [
    {
      "cell_type": "markdown",
      "metadata": {
        "id": "view-in-github",
        "colab_type": "text"
      },
      "source": [
        "<a href=\"https://colab.research.google.com/github/fgsantosti/ProgramacaoDispositivosMoveisFlutter/blob/main/App_Flutter_09_Bloc.ipynb\" target=\"_parent\"><img src=\"https://colab.research.google.com/assets/colab-badge.svg\" alt=\"Open In Colab\"/></a>"
      ]
    },
    {
      "cell_type": "markdown",
      "source": [
        "Iremos utilizar a biblioteca [flutter_bloc](https://pub.dev/packages/flutter_bloc) \n",
        "\n",
        "Inicialmente iremos instalar as adependências necessárias.\n",
        "\n"
      ],
      "metadata": {
        "id": "PD0h9zwhL5fa"
      }
    },
    {
      "cell_type": "code",
      "execution_count": null,
      "metadata": {
        "id": "WYuO_Pj8LwFO"
      },
      "outputs": [],
      "source": [
        "dependencies:\n",
        "  flutter_bloc: ^7.0.0\n",
        "  equatable: ^2.0.0\n"
      ]
    },
    {
      "cell_type": "markdown",
      "source": [
        "Agora, vamos criar os arquivos necessários para o exemplo:\n",
        "\n",
        "\n",
        "Vamos criar o arquivo `counter_event.dart` onde define os eventos que podem ocorrer no contador.\n"
      ],
      "metadata": {
        "id": "MBxnsKmUMNrr"
      }
    },
    {
      "cell_type": "code",
      "source": [
        "import 'package:equatable/equatable.dart';\n",
        "\n",
        "abstract class CounterEvent extends Equatable {\n",
        "  const CounterEvent();\n",
        "\n",
        "  @override\n",
        "  List<Object> get props => [];\n",
        "}\n",
        "\n",
        "class IncrementEvent extends CounterEvent {}\n",
        "\n",
        "class DecrementEvent extends CounterEvent {}\n"
      ],
      "metadata": {
        "id": "9Qz-_4hnMNKc"
      },
      "execution_count": null,
      "outputs": []
    },
    {
      "cell_type": "markdown",
      "source": [
        "No arquivo `counter_state.dart` vamos define os possíveis estados do contador."
      ],
      "metadata": {
        "id": "fI23nVfPMyp_"
      }
    },
    {
      "cell_type": "code",
      "source": [
        "import 'package:equatable/equatable.dart';\n",
        "\n",
        "abstract class CounterState extends Equatable {\n",
        "  const CounterState();\n",
        "\n",
        "  @override\n",
        "  List<Object> get props => [];\n",
        "}\n",
        "\n",
        "class InitialState extends CounterState {}\n",
        "\n",
        "class CounterValueState extends CounterState {\n",
        "  final int value;\n",
        "\n",
        "  const CounterValueState(this.value);\n",
        "\n",
        "  @override\n",
        "  List<Object> get props => [value];\n",
        "}\n"
      ],
      "metadata": {
        "id": "ubHmwOnKM9ys"
      },
      "execution_count": null,
      "outputs": []
    },
    {
      "cell_type": "markdown",
      "source": [
        "Vamos agora criar o arquivo `counter_bloc.dart` que implementa a lógica do contador usando o `flutter_bloc`."
      ],
      "metadata": {
        "id": "fsK2x_M7NBbw"
      }
    },
    {
      "cell_type": "code",
      "source": [
        "import 'package:flutter_bloc/flutter_bloc.dart';\n",
        "import 'counter_event.dart';\n",
        "import 'counter_state.dart';\n",
        "\n",
        "class CounterBloc extends Bloc<CounterEvent, CounterState> {\n",
        "  CounterBloc() : super(InitialState());\n",
        "\n",
        "  @override\n",
        "  Stream<CounterState> mapEventToState(CounterEvent event) async* {\n",
        "    if (event is IncrementEvent) {\n",
        "      yield CounterValueState(state.value + 1);\n",
        "    } else if (event is DecrementEvent) {\n",
        "      yield CounterValueState(state.value - 1);\n",
        "    }\n",
        "  }\n",
        "}\n"
      ],
      "metadata": {
        "id": "7-TMRrOVNLbO"
      },
      "execution_count": null,
      "outputs": []
    },
    {
      "cell_type": "markdown",
      "source": [
        "No nosso arquivo `main.dart` iremos configurar a interface do usuário e a integração com o `CounterBloc`."
      ],
      "metadata": {
        "id": "eUOPDsc6NPHW"
      }
    },
    {
      "cell_type": "code",
      "source": [
        "import 'package:flutter/material.dart';\n",
        "import 'package:flutter_bloc/flutter_bloc.dart';\n",
        "import 'counter_bloc.dart';\n",
        "import 'counter_event.dart';\n",
        "import 'counter_state.dart';\n",
        "\n",
        "void main() {\n",
        "  runApp(MyApp());\n",
        "}\n",
        "\n",
        "class MyApp extends StatelessWidget {\n",
        "  @override\n",
        "  Widget build(BuildContext context) {\n",
        "    return MaterialApp(\n",
        "      title: 'Flutter Bloc Counter',\n",
        "      home: BlocProvider(\n",
        "        create: (context) => CounterBloc(),\n",
        "        child: CounterPage(),\n",
        "      ),\n",
        "    );\n",
        "  }\n",
        "}\n",
        "\n",
        "class CounterPage extends StatelessWidget {\n",
        "  @override\n",
        "  Widget build(BuildContext context) {\n",
        "    final counterBloc = BlocProvider.of<CounterBloc>(context);\n",
        "\n",
        "    return Scaffold(\n",
        "      appBar: AppBar(title: Text('Counter')),\n",
        "      body: Center(\n",
        "        child: BlocBuilder<CounterBloc, CounterState>(\n",
        "          builder: (context, state) {\n",
        "            if (state is CounterValueState) {\n",
        "              return Text(\n",
        "                'Value: ${state.value}',\n",
        "                style: TextStyle(fontSize: 24),\n",
        "              );\n",
        "            }\n",
        "            return CircularProgressIndicator();\n",
        "          },\n",
        "        ),\n",
        "      ),\n",
        "      floatingActionButton: Column(\n",
        "        mainAxisAlignment: MainAxisAlignment.end,\n",
        "        crossAxisAlignment: CrossAxisAlignment.end,\n",
        "        children: [\n",
        "          FloatingActionButton(\n",
        "            child: Icon(Icons.add),\n",
        "            onPressed: () => counterBloc.add(IncrementEvent()),\n",
        "          ),\n",
        "          SizedBox(height: 10),\n",
        "          FloatingActionButton(\n",
        "            child: Icon(Icons.remove),\n",
        "            onPressed: () => counterBloc.add(DecrementEvent()),\n",
        "          ),\n",
        "        ],\n",
        "      ),\n",
        "    );\n",
        "  }\n",
        "}\n"
      ],
      "metadata": {
        "id": "d6Z7K0y4Nh61"
      },
      "execution_count": null,
      "outputs": []
    }
  ]
}
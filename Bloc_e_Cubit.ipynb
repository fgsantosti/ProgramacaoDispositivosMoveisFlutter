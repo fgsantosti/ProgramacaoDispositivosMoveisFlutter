{
  "nbformat": 4,
  "nbformat_minor": 0,
  "metadata": {
    "colab": {
      "name": "Bloc e Cubit.ipynb",
      "provenance": [],
      "authorship_tag": "ABX9TyOOPg7USFbRXnCW/iYH25dw",
      "include_colab_link": true
    },
    "kernelspec": {
      "name": "python3",
      "display_name": "Python 3"
    },
    "language_info": {
      "name": "python"
    }
  },
  "cells": [
    {
      "cell_type": "markdown",
      "metadata": {
        "id": "view-in-github",
        "colab_type": "text"
      },
      "source": [
        "<a href=\"https://colab.research.google.com/github/fgsantosti/ProgramacaoDispositivosMoveisFlutter/blob/main/Bloc_e_Cubit.ipynb\" target=\"_parent\"><img src=\"https://colab.research.google.com/assets/colab-badge.svg\" alt=\"Open In Colab\"/></a>"
      ]
    },
    {
      "cell_type": "markdown",
      "source": [
        "Primeiramente, o que é BLoC?\n",
        "\n",
        "BLoC é a abreviação de Componente de Regras/Lógica de Negócio(Business Logic Component).\n",
        "\n",
        "Para que ele serve?\n",
        "\n",
        "O BLoC foi criado para separar regras de negócio e interface de usuário."
      ],
      "metadata": {
        "id": "tcEZ92-4BqEZ"
      }
    },
    {
      "cell_type": "markdown",
      "source": [
        "Para entenermos o funcionamento do Bloc vamos trabalhar com um exemplo simples que está na documentação da biblioteca. A primeira coisa que devemos fazer é inserir a biblioteca nas dependencias no aquivo ```pubspec.yaml```. "
      ],
      "metadata": {
        "id": "ip0qAXlue9bx"
      }
    },
    {
      "cell_type": "code",
      "source": [
        "dependencies:\n",
        "  flutter_bloc: ^8.0.1"
      ],
      "metadata": {
        "id": "JgK0WxiGe8lN"
      },
      "execution_count": null,
      "outputs": []
    },
    {
      "cell_type": "markdown",
      "source": [
        "Agora iniciaremos o nosso projeto criando o arquivo ```counter_cubit.dart``` onde contem a nossa regras de negócios, para que seja possível realizar a divisão Logica/Componentes. "
      ],
      "metadata": {
        "id": "elTpKC9Re8Xf"
      }
    },
    {
      "cell_type": "code",
      "execution_count": null,
      "metadata": {
        "id": "SZkr0-xS8fRJ"
      },
      "outputs": [],
      "source": [
        "class CounterCubit extends Cubit<int> {\n",
        "  CounterCubit() : super(0);\n",
        "\n",
        "  void increment() => emit(state + 1);\n",
        "  void decrement() => emit(state - 1);\n",
        "}"
      ]
    },
    {
      "cell_type": "markdown",
      "source": [
        "No arquivo ```main.dart``` iremos realizar a chamada do componente que ainda não criamos. "
      ],
      "metadata": {
        "id": "8iUK3RHMggnD"
      }
    },
    {
      "cell_type": "code",
      "source": [
        "void main() => runApp(CounterApp());\n",
        "\n",
        "class CounterApp extends StatelessWidget {\n",
        "  @override\n",
        "  Widget build(BuildContext context) {\n",
        "    return MaterialApp(\n",
        "      home: BlocProvider(\n",
        "        create: (_) => CounterCubit(),\n",
        "        child: CounterPage(),\n",
        "      ),\n",
        "    );\n",
        "  }\n",
        "}"
      ],
      "metadata": {
        "id": "bkt0VUqogdpu"
      },
      "execution_count": null,
      "outputs": []
    },
    {
      "cell_type": "markdown",
      "source": [
        "O arquivo ```counter_page.dart``` a seguir contem a interação entre componente e a lógica de negócio criada no arquivo ```counter_cubit.dart```. "
      ],
      "metadata": {
        "id": "lng0vI3Hgzd3"
      }
    },
    {
      "cell_type": "code",
      "source": [
        "class CounterPage extends StatelessWidget {\n",
        "  @override\n",
        "  Widget build(BuildContext context) {\n",
        "    return Scaffold(\n",
        "      appBar: AppBar(title: const Text('Counter')),\n",
        "      body: BlocBuilder<CounterCubit, int>(\n",
        "        builder: (context, count) => Center(child: Text('$count')),\n",
        "      ),\n",
        "      floatingActionButton: Column(\n",
        "        crossAxisAlignment: CrossAxisAlignment.end,\n",
        "        mainAxisAlignment: MainAxisAlignment.end,\n",
        "        children: <Widget>[\n",
        "          FloatingActionButton(\n",
        "            child: const Icon(Icons.add),\n",
        "            onPressed: () => context.read<CounterCubit>().increment(),\n",
        "          ),\n",
        "          const SizedBox(height: 4),\n",
        "          FloatingActionButton(\n",
        "            child: const Icon(Icons.remove),\n",
        "            onPressed: () => context.read<CounterCubit>().decrement(),\n",
        "          ),\n",
        "        ],\n",
        "      ),\n",
        "    );\n",
        "  }\n",
        "}"
      ],
      "metadata": {
        "id": "qIsCjkjpYvc3"
      },
      "execution_count": null,
      "outputs": []
    },
    {
      "cell_type": "markdown",
      "source": [
        "É importante notarmos que neste simples app, separamos com sucesso nossa camada de apresentação da nossa camada de lógica de negócios. Observe que o widget **CounterPage** não sabe nada sobre o que acontece quando um usuário toca nos botões. O widget simplesmente notifica o **CounterCubit** que o usuário pressionou o botão de incremento ou decremento.\n",
        "\n",
        "\n",
        "### BlocBuilder\n",
        "\n",
        "**BlocBuilder** é um widget Flutter que requer um bloco e uma função de builder. **BlocBuilder** lida com a construção do widget em resposta a novos estados. O **BlocBuilder** é muito semelhante ao **StreamBuilder**, mas possui uma API mais simples para reduzir a quantidade de código padrão necessário. A função do **builder** será potencialmente chamada muitas vezes e deve ser uma função pura que retorna um widget em resposta ao estado.\n",
        "\n",
        "Veja **BlocListener** se você quiser \"fazer\" qualquer coisa em resposta a mudanças de estado, como navegação, mostrar uma caixa de diálogo, etc. Se o parâmetro **bloc** for omitido, o **BlocBuilder** realizará automaticamente uma pesquisa usando BlocProvider e o **BuildContext** atual."
      ],
      "metadata": {
        "id": "NQ8_bLTAiiYd"
      }
    },
    {
      "cell_type": "code",
      "source": [
        ""
      ],
      "metadata": {
        "id": "Tg5gnZe2kY4P"
      },
      "execution_count": null,
      "outputs": []
    },
    {
      "cell_type": "markdown",
      "source": [
        "Refs. \n",
        "\n",
        "- https://pub.dev/packages/flutter_bloc\n",
        "\n",
        "- https://pub.dev/packages/bloc\n",
        "\n",
        "- https://blog.flutterando.com.br/bloc-entendendo-de-uma-vez-por-todas-f16f234b262a\n",
        "\n",
        "- https://blog.flutterando.com.br/cubit-uma-solu%C3%A7%C3%A3o-simples-para-ger%C3%AAncia-de-estado-no-flutter-c8f594e618fc\n",
        "\n",
        "- https://blog.flutterando.com.br/gerenciamento-de-estado-no-flutter-o-uso-do-mobx-a71c5dc3b6ca\n",
        "\n",
        "\n"
      ],
      "metadata": {
        "id": "Q3fR4riOXNNt"
      }
    }
  ]
}
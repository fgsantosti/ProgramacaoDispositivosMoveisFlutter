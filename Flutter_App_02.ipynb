{
  "nbformat": 4,
  "nbformat_minor": 0,
  "metadata": {
    "colab": {
      "provenance": [],
      "authorship_tag": "ABX9TyM9x9Oj2L8tFNM+n2TBwe2e",
      "include_colab_link": true
    },
    "kernelspec": {
      "name": "python3",
      "display_name": "Python 3"
    },
    "language_info": {
      "name": "python"
    }
  },
  "cells": [
    {
      "cell_type": "markdown",
      "metadata": {
        "id": "view-in-github",
        "colab_type": "text"
      },
      "source": [
        "<a href=\"https://colab.research.google.com/github/fgsantosti/ProgramacaoDispositivosMoveisFlutter/blob/main/Flutter_App_02.ipynb\" target=\"_parent\"><img src=\"https://colab.research.google.com/assets/colab-badge.svg\" alt=\"Open In Colab\"/></a>"
      ]
    },
    {
      "cell_type": "markdown",
      "source": [
        "\n",
        "A prefeitura municipal de Corrente-PI abriu uma linha de crédito para os funcionários estatutários. O valor máximo da prestação não poderá ultrapassar 30% do salário bruto. Faça um programa que permita entrar com o salário bruto e o valor da prestação e informar se o empréstimo pode ou não ser concedido. "
      ],
      "metadata": {
        "id": "aOxML0RhdlV0"
      }
    },
    {
      "cell_type": "code",
      "execution_count": null,
      "metadata": {
        "id": "u762cDJ-dhYs"
      },
      "outputs": [],
      "source": [
        "//main.dart\n",
        "import 'package:flutter/material.dart';\n",
        "import 'home.dart';\n",
        "\n",
        "void main() {\n",
        "  runApp(const MyApp());\n",
        "}\n",
        "\n",
        "class MyApp extends StatelessWidget {\n",
        "  const MyApp({Key? key}) : super(key: key);\n",
        "\n",
        "  // This widget is the root of your application.\n",
        "  @override\n",
        "  Widget build(BuildContext context) {\n",
        "    return MaterialApp(\n",
        "      title: 'Flutter Demo',\n",
        "      theme: ThemeData(\n",
        "        primarySwatch: Colors.blue, //cor azul como primaria para todo app\n",
        "      ),\n",
        "      home: const MyHomePage(title: 'Análise de Crédito'),\n",
        "      debugShowCheckedModeBanner: false,\n",
        "    );\n",
        "  }\n",
        "}\n"
      ]
    },
    {
      "cell_type": "code",
      "source": [
        "//pubspec.yaml\n",
        "...\n",
        "  # To add assets to your application, add an assets section, like this:\n",
        "  assets:\n",
        "    - images/\n",
        "  #   - images/a_dot_ham.jpeg\n",
        "..."
      ],
      "metadata": {
        "id": "15-3WVWVd-wm"
      },
      "execution_count": null,
      "outputs": []
    },
    {
      "cell_type": "code",
      "source": [
        "import 'package:flutter/material.dart';\n",
        "\n",
        "/*\n",
        "A prefeitura municipal de Corrente-PI abriu uma linha de crédito para os \n",
        "funcionários estatutários. O valor máximo da prestação não poderá ultrapassar \n",
        "30% do salário bruto. Faça um programa que permita entrar com o salário bruto \n",
        "e o valor da prestação e informar se o empréstimo pode ou não ser concedido. \n",
        "*/\n",
        "\n",
        "class MyHomePage extends StatefulWidget {\n",
        "  const MyHomePage({Key? key, required this.title}) : super(key: key);\n",
        "  final String title;\n",
        "  @override\n",
        "  State createState() => _MyHomePageState();\n",
        "}\n",
        "\n",
        "class _MyHomePageState extends State {\n",
        "  final textoControler = TextEditingController();\n",
        "  final salarioControler = TextEditingController();\n",
        "  final parcelaControler = TextEditingController();\n",
        "  late double salario;\n",
        "  late double parcela;\n",
        "  late double parcelaPossivel;\n",
        "  late String texto = \"\";\n",
        "\n",
        "  @override\n",
        "  Widget build(BuildContext context) {\n",
        "    return Scaffold(\n",
        "      appBar: AppBar(\n",
        "        title: const Text(\"Análise de Crédito\"),\n",
        "      ),\n",
        "      body: Column(\n",
        "        children: [\n",
        "          WidgetImagemAssent(),\n",
        "          Padding(\n",
        "            padding: const EdgeInsets.all(8.0),\n",
        "            child: Expanded(\n",
        "                child: TextField(\n",
        "              controller: salarioControler,\n",
        "            )),\n",
        "          ),\n",
        "          Padding(\n",
        "            padding: const EdgeInsets.all(8.0),\n",
        "            child: Expanded(\n",
        "                child: TextField(\n",
        "              controller: parcelaControler,\n",
        "            )),\n",
        "          ),\n",
        "          Padding(\n",
        "            padding: const EdgeInsets.symmetric(vertical: 16.0),\n",
        "            child: ElevatedButton(\n",
        "              onPressed: () {\n",
        "                salario = double.parse(salarioControler.text);\n",
        "                parcela = double.parse(parcelaControler.text);\n",
        "                parcelaPossivel = salario * 0.3;\n",
        "\n",
        "                setState(() {\n",
        "                  print(parcelaPossivel);\n",
        "                });\n",
        "                if (parcela <= parcelaPossivel) {\n",
        "                  texto = 'Pode ser concedido';\n",
        "                } else {\n",
        "                  texto = 'Não pode ser concedido';\n",
        "                }\n",
        "              },\n",
        "              child: const Text('Calcular'),\n",
        "            ),\n",
        "          ),\n",
        "          SizedBox(\n",
        "            child: Column(\n",
        "              children: [\n",
        "                Center(child: Text(texto)),\n",
        "              ],\n",
        "            ),\n",
        "          )\n",
        "        ],\n",
        "      ),\n",
        "    );\n",
        "  }\n",
        "}\n",
        "\n",
        "WidgetImagemAssent() {\n",
        "  return SizedBox(\n",
        "    height: 150,\n",
        "    child: Image.asset(\n",
        "      \"images/corrente.jpg\",\n",
        "      fit: BoxFit.contain,\n",
        "      height: 400,\n",
        "      width: 400,\n",
        "    ),\n",
        "  );\n",
        "}\n",
        "\n",
        "WidgetImagemWeb() {\n",
        "  return SizedBox(\n",
        "    height: 150,\n",
        "    child: const Image(\n",
        "      image: NetworkImage(\n",
        "          'http://transparencia.corrente.pi.gov.br/uploads/clientes_imagem/110.jpg'),\n",
        "    ),\n",
        "  );\n",
        "}\n"
      ],
      "metadata": {
        "id": "Law79w3Td6P7"
      },
      "execution_count": null,
      "outputs": []
    }
  ]
}
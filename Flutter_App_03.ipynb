{
  "nbformat": 4,
  "nbformat_minor": 0,
  "metadata": {
    "colab": {
      "provenance": [],
      "authorship_tag": "ABX9TyNciA3BQHuHjhfML0SRG31F",
      "include_colab_link": true
    },
    "kernelspec": {
      "name": "python3",
      "display_name": "Python 3"
    },
    "language_info": {
      "name": "python"
    }
  },
  "cells": [
    {
      "cell_type": "markdown",
      "metadata": {
        "id": "view-in-github",
        "colab_type": "text"
      },
      "source": [
        "<a href=\"https://colab.research.google.com/github/fgsantosti/ProgramacaoDispositivosMoveisFlutter/blob/main/Flutter_App_03.ipynb\" target=\"_parent\"><img src=\"https://colab.research.google.com/assets/colab-badge.svg\" alt=\"Open In Colab\"/></a>"
      ]
    },
    {
      "cell_type": "markdown",
      "source": [
        "## Calculadora de Juros Compostos\n"
      ],
      "metadata": {
        "id": "5SsY6aU70R9c"
      }
    },
    {
      "cell_type": "markdown",
      "source": [
        "ref. https://www.idinheiro.com.br/calculadoras/calculadora-juros-compostos/\n",
        "\n",
        "ref. https://www.suno.com.br/ferramentas/calculadora-juros-compostos/"
      ],
      "metadata": {
        "id": "0O-SxE2v0fbE"
      }
    },
    {
      "cell_type": "code",
      "execution_count": null,
      "metadata": {
        "id": "OQBtQ5kY0M3_"
      },
      "outputs": [],
      "source": [
        "import 'package:flutter/material.dart';\n",
        "\n",
        "class MyHomePage extends StatefulWidget {\n",
        "  const MyHomePage({Key? key, required this.title}) : super(key: key);\n",
        "  final String title;\n",
        "  @override\n",
        "  State createState() => _MyHomePageState();\n",
        "}\n",
        "\n",
        "class _MyHomePageState extends State {\n",
        "  final capitalController = TextEditingController();\n",
        "  final aplicacaoMensalController = TextEditingController();\n",
        "  final mesesController = TextEditingController();\n",
        "  final taxaJurosMesController = TextEditingController();\n",
        "  late double capital = 0.0;\n",
        "  late double aplicacaoMensal = 0.0;\n",
        "  late int meses = 0;\n",
        "  late double taxaJurosMes = 0.0;\n",
        "  late String texto = \"\";\n",
        "  late double rendimentoMensal = 0.0;\n",
        "  late double rendimentoFinal = 0.0;\n",
        "\n",
        "  List<double> valorCapital = [];\n",
        "  List<double> valorRendimentos = [];\n",
        "\n",
        "  @override\n",
        "  Widget build(BuildContext context) {\n",
        "    return Scaffold(\n",
        "      appBar: AppBar(\n",
        "        title: const Text(\"Calcularado Juros Compostos\"),\n",
        "      ),\n",
        "      body: Column(\n",
        "        children: [\n",
        "          Padding(\n",
        "            padding: const EdgeInsets.all(8.0),\n",
        "            child: Expanded(\n",
        "                child: TextFormField(\n",
        "              controller: capitalController,\n",
        "              decoration:\n",
        "                  const InputDecoration(hintText: 'Investimento inicial'),\n",
        "            )),\n",
        "          ),\n",
        "          Padding(\n",
        "            padding: const EdgeInsets.all(8.0),\n",
        "            child: Expanded(\n",
        "                child: TextFormField(\n",
        "              controller: aplicacaoMensalController,\n",
        "              decoration: const InputDecoration(hintText: 'Aplicação Mensal'),\n",
        "            )),\n",
        "          ),\n",
        "          Padding(\n",
        "            padding: const EdgeInsets.all(8.0),\n",
        "            child: Expanded(\n",
        "                child: TextFormField(\n",
        "              controller: mesesController,\n",
        "              decoration: const InputDecoration(hintText: 'Período em meses'),\n",
        "            )),\n",
        "          ),\n",
        "          Padding(\n",
        "            padding: const EdgeInsets.all(8.0),\n",
        "            child: Expanded(\n",
        "                child: TextFormField(\n",
        "              controller: taxaJurosMesController,\n",
        "              decoration: const InputDecoration(hintText: 'Rentabilidade Mês'),\n",
        "            )),\n",
        "          ),\n",
        "          Padding(\n",
        "            padding: const EdgeInsets.symmetric(vertical: 16.0),\n",
        "            child: ElevatedButton(\n",
        "              onPressed: () {\n",
        "                capital = double.parse(capitalController.text);\n",
        "                aplicacaoMensal = double.parse(aplicacaoMensalController.text);\n",
        "                meses = int.parse(mesesController.text);\n",
        "                taxaJurosMes = double.parse(taxaJurosMesController.text);\n",
        "\n",
        "                for (int i = 0; i < meses; i++) {\n",
        "                  rendimentoMensal = capital * taxaJurosMes;\n",
        "                  rendimentoFinal = rendimentoFinal + rendimentoMensal;\n",
        "                  capital = capital + rendimentoMensal;\n",
        "                  capital = capital + aplicacaoMensal;\n",
        "                  valorCapital.add(capital);\n",
        "                  valorRendimentos.add(rendimentoFinal);\n",
        "                  //print(rendimentoMensal);\n",
        "                  //print(capital);\n",
        "                }\n",
        "                //String valor_total = capital.toStringAsFixed(2);\n",
        "\n",
        "                setState(() {\n",
        "                  print(capital);\n",
        "                });\n",
        "              },\n",
        "              child: const Text('Calcular'),\n",
        "            ),\n",
        "          ),\n",
        "          SizedBox(\n",
        "            child: Column(\n",
        "              children: [\n",
        "                Center(child: Text('$capital')),\n",
        "                //Center(child: Text('$valor_total')),\n",
        "              ],\n",
        "            ),\n",
        "          ),\n",
        "          Expanded(\n",
        "            child: ListView.builder(\n",
        "                itemCount: valorCapital.length,\n",
        "                itemBuilder: (context, index) {\n",
        "                  final item = valorCapital[index];\n",
        "                  String valor = item.toStringAsFixed(2);\n",
        "                  int mes = index + 1;\n",
        "                  return ListTile(\n",
        "                    title: Text('Valor mês $mes: $valor'),\n",
        "                  );\n",
        "                }),\n",
        "          ),\n",
        "        ],\n",
        "      ),\n",
        "    );\n",
        "  }\n",
        "}\n"
      ]
    }
  ]
}
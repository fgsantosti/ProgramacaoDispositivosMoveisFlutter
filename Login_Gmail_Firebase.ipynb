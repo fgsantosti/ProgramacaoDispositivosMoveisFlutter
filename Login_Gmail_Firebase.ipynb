{
  "nbformat": 4,
  "nbformat_minor": 0,
  "metadata": {
    "colab": {
      "name": "Login Gmail Firebase.ipynb",
      "provenance": [],
      "authorship_tag": "ABX9TyMaO+Q8SH0hvx5c6uwL8i51",
      "include_colab_link": true
    },
    "kernelspec": {
      "name": "python3",
      "display_name": "Python 3"
    },
    "language_info": {
      "name": "python"
    }
  },
  "cells": [
    {
      "cell_type": "markdown",
      "metadata": {
        "id": "view-in-github",
        "colab_type": "text"
      },
      "source": [
        "<a href=\"https://colab.research.google.com/github/fgsantosti/ProgramacaoDispositivosMoveisFlutter/blob/main/Login_Gmail_Firebase.ipynb\" target=\"_parent\"><img src=\"https://colab.research.google.com/assets/colab-badge.svg\" alt=\"Open In Colab\"/></a>"
      ]
    },
    {
      "cell_type": "markdown",
      "source": [
        "https://console.firebase.google.com/"
      ],
      "metadata": {
        "id": "9Px4s2ZtuNTV"
      }
    },
    {
      "cell_type": "code",
      "source": [
        "dependencies:\n",
        "  flutter:\n",
        "    sdk: flutter\n",
        "\n",
        "  firebase_core: ^1.6.0\n",
        "  firebase_auth: ^3.1.1\n",
        "  google_sign_in: ^5.1.0"
      ],
      "metadata": {
        "id": "hIXwCL1260pX"
      },
      "execution_count": null,
      "outputs": []
    },
    {
      "cell_type": "code",
      "source": [
        "import 'package:firebase_auth/firebase_auth.dart';\n",
        "import 'package:flutter/material.dart';\n",
        "import 'package:google_sign_in/google_sign_in.dart';\n",
        "\n",
        "class LoginWithGoogle extends StatefulWidget {\n",
        "  const LoginWithGoogle({Key? key}) : super(key: key);\n",
        "\n",
        "  @override\n",
        "  _LoginWithGoogleState createState() => _LoginWithGoogleState();\n",
        "}\n",
        "\n",
        "class _LoginWithGoogleState extends State<LoginWithGoogle> {\n",
        "  String userEmail = \"\";\n",
        "\n",
        "  @override\n",
        "  Widget build(BuildContext context) {\n",
        "    return Scaffold(\n",
        "      appBar: AppBar(\n",
        "        title: Text(\"Login With Google\"),\n",
        "      ),\n",
        "      body: Container(\n",
        "        child: Column(\n",
        "          mainAxisAlignment: MainAxisAlignment.center,\n",
        "          children: [\n",
        "            Padding(\n",
        "              padding: const EdgeInsets.all(8.0),\n",
        "              child: Row(\n",
        "                mainAxisAlignment: MainAxisAlignment.spaceBetween,\n",
        "                children: [Text(\"User Email: \"), Text(userEmail)],\n",
        "              ),\n",
        "            ),\n",
        "            ElevatedButton(\n",
        "                onPressed: () async {\n",
        "                  await signInWithGoogle();\n",
        "\n",
        "                  setState(() {});\n",
        "                },\n",
        "                child: Text(\"Login with google\")),\n",
        "            ElevatedButton(\n",
        "                onPressed: () async {\n",
        "                  await FirebaseAuth.instance.signOut();\n",
        "                  userEmail = \"\";\n",
        "                  await GoogleSignIn().signOut();\n",
        "                  setState(() {});\n",
        "                },\n",
        "                child: Text(\"Logout\"))\n",
        "          ],\n",
        "        ),\n",
        "      ),\n",
        "    );\n",
        "  }\n",
        "\n",
        "  Future<UserCredential> signInWithGoogle() async {\n",
        "    // Trigger the authentication flow\n",
        "    final GoogleSignInAccount? googleUser = await GoogleSignIn().signIn();\n",
        "\n",
        "    // Obtain the auth details from the request\n",
        "    final GoogleSignInAuthentication googleAuth =\n",
        "        await googleUser!.authentication;\n",
        "\n",
        "    // Create a new credential\n",
        "    final credential = GoogleAuthProvider.credential(\n",
        "      accessToken: googleAuth.accessToken,\n",
        "      idToken: googleAuth.idToken,\n",
        "    );\n",
        "\n",
        "    userEmail = googleUser.email;\n",
        "\n",
        "    // Once signed in, return the UserCredential\n",
        "    return await FirebaseAuth.instance.signInWithCredential(credential);\n",
        "  }\n",
        "}\n"
      ],
      "metadata": {
        "id": "UZ1DK8I662UL"
      },
      "execution_count": null,
      "outputs": []
    },
    {
      "cell_type": "code",
      "source": [
        "import 'package:firebase_core/firebase_core.dart';\n",
        "import 'package:flutter/material.dart';\n",
        "\n",
        "import 'login_with_google.dart';\n",
        "\n",
        "Future<void> main() async {\n",
        "  WidgetsFlutterBinding.ensureInitialized();\n",
        "  await Firebase.initializeApp();\n",
        "  runApp(MyApp());\n",
        "}\n",
        "\n",
        "class MyApp extends StatelessWidget {\n",
        "  @override\n",
        "  Widget build(BuildContext context) {\n",
        "    return MaterialApp(\n",
        "      title: 'Login',\n",
        "      theme: ThemeData(\n",
        "        primarySwatch: Colors.blue,\n",
        "      ),\n",
        "      home: HomeScreen(),\n",
        "    );\n",
        "  }\n",
        "}\n",
        "\n",
        "class HomeScreen extends StatelessWidget {\n",
        "  const HomeScreen({Key? key}) : super(key: key);\n",
        "\n",
        "  @override\n",
        "  Widget build(BuildContext context) {\n",
        "    return Scaffold(\n",
        "      appBar: AppBar(\n",
        "        centerTitle: true,\n",
        "        title: Text(\"Select Option\"),\n",
        "      ),\n",
        "      body: Container(\n",
        "        width: MediaQuery.of(context).size.width,\n",
        "        child: Column(\n",
        "          mainAxisAlignment: MainAxisAlignment.center,\n",
        "          crossAxisAlignment: CrossAxisAlignment.center,\n",
        "          children: [\n",
        "            ElevatedButton(\n",
        "                onPressed: () {\n",
        "                  Navigator.of(context).push(MaterialPageRoute(\n",
        "                      builder: (context) => LoginWithGoogle()));\n",
        "                },\n",
        "                child: Text(\"Login with google\")),\n",
        "            ElevatedButton(\n",
        "                onPressed: () {\n",
        "                  Navigator.of(context).push(MaterialPageRoute(\n",
        "                      builder: (context) => LoginWithGoogle()));\n",
        "                },\n",
        "                child: Text(\"Login with facebook\")),\n",
        "            ElevatedButton(\n",
        "                onPressed: () {\n",
        "                  Navigator.of(context).push(MaterialPageRoute(\n",
        "                      builder: (context) => LoginWithGoogle()));\n",
        "                },\n",
        "                child: Text(\"Login with Phone\")),\n",
        "            ElevatedButton(\n",
        "                onPressed: () {\n",
        "                  Navigator.of(context).push(MaterialPageRoute(\n",
        "                      builder: (context) => LoginWithGoogle()));\n",
        "                },\n",
        "                child: Text(\"Login with Twitter\"))\n",
        "          ],\n",
        "        ),\n",
        "      ),\n",
        "    );\n",
        "  }\n",
        "}\n"
      ],
      "metadata": {
        "id": "shhvV_13640b"
      },
      "execution_count": null,
      "outputs": []
    },
    {
      "cell_type": "code",
      "execution_count": null,
      "metadata": {
        "id": "nS4i0T-5cXhm"
      },
      "outputs": [],
      "source": [
        "https://www.youtube.com/watch?v=kHd2E6An2WQ"
      ]
    },
    {
      "cell_type": "code",
      "source": [
        "https://github.com/proglabs/flutter_firebase_auth"
      ],
      "metadata": {
        "id": "q4_5x8auccHk"
      },
      "execution_count": null,
      "outputs": []
    }
  ]
}
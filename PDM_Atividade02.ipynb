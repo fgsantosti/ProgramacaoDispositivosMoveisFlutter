{
  "nbformat": 4,
  "nbformat_minor": 0,
  "metadata": {
    "colab": {
      "provenance": [],
      "authorship_tag": "ABX9TyPqb/6G3P//YFAF8sDjza3q",
      "include_colab_link": true
    },
    "kernelspec": {
      "name": "python3",
      "display_name": "Python 3"
    },
    "language_info": {
      "name": "python"
    }
  },
  "cells": [
    {
      "cell_type": "markdown",
      "metadata": {
        "id": "view-in-github",
        "colab_type": "text"
      },
      "source": [
        "<a href=\"https://colab.research.google.com/github/fgsantosti/programacaodispositivosmoveis/blob/main/PDM_Atividade02.ipynb\" target=\"_parent\"><img src=\"https://colab.research.google.com/assets/colab-badge.svg\" alt=\"Open In Colab\"/></a>"
      ]
    },
    {
      "cell_type": "markdown",
      "source": [
        "### **Desafio para os Alunos: Simulador de Investimentos Personalizado**\n",
        "\n",
        "**Título do Desafio:**  \n",
        "**\"Simulador de Investimentos: Comparação de Rendimentos\"**\n",
        "\n",
        "---\n",
        "\n",
        "### **Objetivo do Desafio**  \n",
        "Os alunos devem criar um aplicativo Flutter que permita comparar **dois investimentos diferentes**. O aplicativo deve utilizar os mesmos componentes do exemplo anterior (formulário, navegação entre páginas, listas, cálculos, exibição de resultados), mas expandir a funcionalidade para apresentar a comparação detalhada dos rendimentos de ambos os investimentos.\n",
        "\n",
        "---\n",
        "\n",
        "### **Descrição do Aplicativo**  \n",
        "1. **Tela Inicial (Entrada de Dados):**  \n",
        "   - Criar um formulário onde o usuário poderá inserir os dados de **dois investimentos distintos**:\n",
        "     - Capital inicial (para cada investimento).\n",
        "     - Aplicação mensal (para cada investimento).\n",
        "     - Período em meses (compartilhado entre os dois).\n",
        "     - Taxa de juros mensal (para cada investimento).\n",
        "\n",
        "2. **Cálculos:**  \n",
        "   - Implementar o cálculo de juros compostos para **cada investimento**.\n",
        "   - Exibir o montante final, rendimento total e evolução mensal de ambos os investimentos.\n",
        "\n",
        "3. **Tela de Resultados (Comparação):**  \n",
        "   - Exibir lado a lado os dados de cada investimento:\n",
        "     - Montante final.\n",
        "     - Rendimento total acumulado.\n",
        "   - Mostrar a evolução mensal de ambos em uma **lista comparativa**, permitindo ao usuário visualizar mês a mês como os rendimentos progrediram.\n",
        "\n",
        "4. **Funcionalidades Extras (opcionais):**  \n",
        "   - Permitir ao usuário reiniciar a simulação e comparar novamente.\n",
        "   - Exibir uma barra ou gráfico comparativo simples para visualizar a diferença entre os dois investimentos.\n",
        "\n",
        "---\n",
        "\n",
        "### **Regras do Desafio**\n",
        "1. **Requisitos Técnicos:**  \n",
        "   - Utilizar **formulários** para entrada de dados.\n",
        "   - Implementar **navegação entre páginas** para separar entrada e resultados.\n",
        "   - Usar **listas** para exibir a evolução mensal de cada investimento.\n",
        "   - Fazer uso de **estados gerenciados com `setState`** para atualizar os resultados dinamicamente.\n",
        "\n",
        "2. **Organização do Código:**  \n",
        "   - Separar as funções em widgets ou métodos reutilizáveis.\n",
        "   - Comentar o código de forma didática, explicando os principais blocos.\n",
        "\n",
        "3. **Apresentação:**  \n",
        "   - Criar um **README.md** explicando as funcionalidades do aplicativo.\n",
        "   - Fazer um vídeo demonstrando o funcionamento do aplicativo e os resultados da comparação.\n",
        "\n",
        "---\n",
        "\n",
        "### **Critérios de Avaliação**\n",
        "- **Funcionalidade (40%):** O aplicativo realiza os cálculos corretamente e exibe a comparação completa.\n",
        "- **Interface e Navegação (30%):** O design é intuitivo e a navegação entre telas é fluida.\n",
        "- **Qualidade do Código (20%):** O código está organizado, bem comentado e segue boas práticas.\n",
        "- **Apresentação (10%):** A explicação no vídeo e no README está clara e detalhada.\n",
        "\n",
        "---\n",
        "\n",
        "### **Dicas para os Alunos**\n",
        "- Reutilizem as estruturas e lógicas do exemplo fornecido, mas adaptem para lidar com dois investimentos ao mesmo tempo.\n",
        "- Testem os cálculos com diferentes entradas para garantir que os resultados estão corretos.\n",
        "- Trabalhem na **clareza visual** da tela de resultados para que a comparação seja fácil de entender.\n",
        "\n",
        "---\n",
        "\n",
        "### **Entrega**\n",
        "- **Prazo:** .  \n",
        "- **Forma de Entrega:** Disponibilizar o projeto no GitHub com README e vídeo explicativo anexado.\n",
        "\n",
        "---\n",
        "\n",
        "**Exemplo de Tela de Resultados:**  \n",
        "- **Investimento 1:** Montante Final: R\\$ 10.000 | Rendimento Total: R\\$ 2.000  \n",
        "- **Investimento 2:** Montante Final: R\\$ 12.000 | Rendimento Total: R\\$ 2.500  \n",
        "\n",
        "| Mês | Investimento 1 (R\\$) | Investimento 2 (R\\$) |  \n",
        "|-----|----------------------|----------------------|  \n",
        "| 1   | 1.100               | 1.120               |  \n",
        "| 2   | 1.210               | 1.254               |  \n",
        "| ... | ...                 | ...                 |  \n",
        "\n",
        "---\n",
        "\n",
        "Se precisar de algum material extra ou suporte, é só avisar!"
      ],
      "metadata": {
        "id": "yvtzweiauDNj"
      }
    },
    {
      "cell_type": "markdown",
      "source": [],
      "metadata": {
        "id": "vBJd85oSuMXh"
      }
    }
  ]
}
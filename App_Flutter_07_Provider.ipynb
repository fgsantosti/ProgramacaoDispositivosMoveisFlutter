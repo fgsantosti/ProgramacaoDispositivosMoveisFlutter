{
  "nbformat": 4,
  "nbformat_minor": 0,
  "metadata": {
    "colab": {
      "provenance": [],
      "authorship_tag": "ABX9TyNJQQoc8I63PjTmXQg84Prd",
      "include_colab_link": true
    },
    "kernelspec": {
      "name": "python3",
      "display_name": "Python 3"
    },
    "language_info": {
      "name": "python"
    }
  },
  "cells": [
    {
      "cell_type": "markdown",
      "metadata": {
        "id": "view-in-github",
        "colab_type": "text"
      },
      "source": [
        "<a href=\"https://colab.research.google.com/github/fgsantosti/ProgramacaoDispositivosMoveisFlutter/blob/main/App_Flutter_07_Provider.ipynb\" target=\"_parent\"><img src=\"https://colab.research.google.com/assets/colab-badge.svg\" alt=\"Open In Colab\"/></a>"
      ]
    },
    {
      "cell_type": "markdown",
      "source": [
        "# Provider Flutter\n",
        "\n",
        "O conceito de gerenciamento de estado continua sendo um dos tópicos mais críticos no Flutter. Isso porque tudo o que fazemos no Flutter, desde as operações relacionadas ao recebimento de informações de um usuário até a exibição de um dado, lida com o estado.\n",
        "\n",
        "Portanto, gerenciar esses dados da melhor maneira possível garante que o aplicativo seja codificado de forma limpa, abstraindo adequadamente, opere sem problemas e forneça os melhores resultados possíveis.\n",
        "\n",
        "Muitas soluções de gerenciamento de estado foram desenvolvidas ao longo dos anos, cada uma baseada no mesmo conceito de manipulação ou modificação do estado da maneira mais limpa e acessível possível. Neste artigo, criaremos um aplicativo de exemplo com um dos melhores pacotes de gerenciamento de estado para o Flutter: Provider.\n",
        "\n",
        "## O que é estado no Flutter\n",
        "\n",
        "O “estado” no Flutter refere-se aos dados armazenados dentro de um widget que podem ser modificados dependendo da operação atual. O estado de um aplicativo pode ser atualizado ou completamente alterado no início de um aplicativo ou quando uma página é recarregada.\n",
        "\n",
        "Isso significa que tudo o que os widgets fazem requer a manipulação dos dados recuperados do usuário e sua transmissão entre si para realizar uma ou mais operações. O Flutter também pode usar o estado para exibir informações ao usuário.\n",
        "\n",
        "## O que é Provider\n",
        "\n",
        "O pacote Provider, criado por Remi Rousselet, visa lidar com o estado da forma mais limpa possível. No Provider, os widgets escutam as mudanças no estado e atualizam assim que são notificados.\n",
        "\n",
        "Portanto, em vez de toda a árvore de widgets ser reconstruída quando há uma alteração de estado, apenas o widget afetado é alterado, reduzindo assim a quantidade de trabalho e fazendo com que o aplicativo seja executado de forma mais rápida e suave.\n",
        "\n",
        "## Gerenciamento de estado com o Provider\n",
        "\n",
        "Lembre-se do que discutimos anteriormente sobre o Provider: os widgets escutam as alterações e notificam uns aos outros se houver uma reconstrução. Assim que o estado muda, aquele widget específico é reconstruído sem afetar outros widgets na árvore.\n",
        "\n",
        "Três componentes principais tornam tudo isso possível:\n",
        "* ChangeNotifier\n",
        "* ChangeNotifierProvider\n",
        "* Consumer\n",
        "\n",
        "Qualquer alteração no estado observada na classe ChangeNotifier faz com que o widget de escuta seja reconstruído. O pacote Provedor oferece diferentes tipos de provedores. ref. [Provider no pud.dev](https://pub.dev/packages/provider)\n",
        "\n",
        "## Iniciando o projeto\n",
        "\n",
        "No arquivo `pubspec.yaml` vamos instalar nossa dependência:\n",
        "\n"
      ],
      "metadata": {
        "id": "qjlQ0ZGcZdLF"
      }
    },
    {
      "cell_type": "code",
      "source": [
        "dependencies:\n",
        "  provider: ^6.0.5"
      ],
      "metadata": {
        "id": "aWloLqJse3bU"
      },
      "execution_count": null,
      "outputs": []
    },
    {
      "cell_type": "markdown",
      "source": [
        "No arquivo main.dart vamos criar todo o nosso projeto"
      ],
      "metadata": {
        "id": "ikN-rdoWx5xl"
      }
    },
    {
      "cell_type": "code",
      "execution_count": null,
      "metadata": {
        "id": "eB53yVstZcg1"
      },
      "outputs": [],
      "source": [
        "import 'package:flutter/foundation.dart';\n",
        "import 'package:flutter/material.dart';\n",
        "import 'package:provider/provider.dart';\n",
        "\n",
        "/// This is a reimplementation of the default Flutter application using provider + [ChangeNotifier].\n",
        "\n",
        "void main() {\n",
        "  runApp(\n",
        "    /// Providers are above [MyApp] instead of inside it, so that tests\n",
        "    /// can use [MyApp] while mocking the providers\n",
        "    MultiProvider(\n",
        "      providers: [\n",
        "        ChangeNotifierProvider(create: (_) => TextoUp()),\n",
        "      ],\n",
        "      child: const MyApp(),\n",
        "    ),\n",
        "  );\n",
        "}\n",
        "\n",
        "/// Mix-in [DiagnosticableTreeMixin] to have access to [debugFillProperties] for the devtool\n",
        "// ignore: prefer_mixin\n",
        "class TextoUp with ChangeNotifier, DiagnosticableTreeMixin {\n",
        "  String _texto = '';\n",
        "\n",
        "  String get texto => _texto;\n",
        "\n",
        "  void updateTexto(String name) {\n",
        "    _texto = name;\n",
        "    notifyListeners();\n",
        "  }\n",
        "\n",
        "  /// Makes `TextoUp` readable inside the devtools by listing all of its properties\n",
        "  @override\n",
        "  void debugFillProperties(DiagnosticPropertiesBuilder properties) {\n",
        "    super.debugFillProperties(properties);\n",
        "    properties.add(StringProperty('texto', texto));\n",
        "  }\n",
        "}\n",
        "\n",
        "class MyApp extends StatelessWidget {\n",
        "  const MyApp({Key? key}) : super(key: key);\n",
        "\n",
        "  @override\n",
        "  Widget build(BuildContext context) {\n",
        "    return const MaterialApp(\n",
        "      home: MyWidget(),\n",
        "    );\n",
        "  }\n",
        "}\n",
        "\n",
        "class MyWidget extends StatefulWidget {\n",
        "  const MyWidget({super.key});\n",
        "\n",
        "  @override\n",
        "  State createState() => _MyWidgetState();\n",
        "}\n",
        "\n",
        "class _MyWidgetState extends State {\n",
        "  final myController = TextEditingController();\n",
        "\n",
        "  @override\n",
        "  Widget build(BuildContext context) {\n",
        "    return Scaffold(\n",
        "      appBar: AppBar(\n",
        "        title: const Text('Example'),\n",
        "      ),\n",
        "      body: Center(\n",
        "        child: Column(\n",
        "          mainAxisSize: MainAxisSize.min,\n",
        "          mainAxisAlignment: MainAxisAlignment.center,\n",
        "          children: [\n",
        "            TextField(controller: myController),\n",
        "            Texto(),\n",
        "          ],\n",
        "        ),\n",
        "      ),\n",
        "      floatingActionButton: FloatingActionButton(\n",
        "        key: const Key('increment_floatingActionButton'),\n",
        "\n",
        "        /// Calls `context.read` instead of `context.watch` so that it does not rebuild\n",
        "        /// when [TextoUp] changes.\n",
        "        onPressed: () => context.read<TextoUp>().updateTexto(myController.text),\n",
        "        tooltip: 'updateTexto',\n",
        "        child: const Icon(Icons.add),\n",
        "      ),\n",
        "    );\n",
        "  }\n",
        "}\n",
        "\n",
        "class Texto extends StatelessWidget {\n",
        "  const Texto({Key? key}) : super(key: key);\n",
        "\n",
        "  @override\n",
        "  Widget build(BuildContext context) {\n",
        "    return Text(\n",
        "      /// Calls `context.watch` to make [Text] rebuild when [updateTexto] changes.\n",
        "      '${context.watch<TextoUp>()._texto}',\n",
        "      key: const Key('textoupState'),\n",
        "      style: Theme.of(context).textTheme.headlineMedium,\n",
        "    );\n",
        "  }\n",
        "}\n"
      ]
    },
    {
      "cell_type": "markdown",
      "source": [
        "Felizmente, com o conhecimento prático que você adquiriu ao criar um aplicativo ao lado deste artigo, agora você pode gerenciar corretamente o estado de seu aplicativo de maneira limpa e mais acessível. Não precisa ser exagerado no gerenciamento de estados.\n",
        "\n",
        "refs.\n",
        "\n",
        "https://pub.dev/packages/provider\n",
        "\n",
        "https://blog.logrocket.com/quick-guide-provider-flutter-state-management/\n",
        "\n",
        "https://www.digitalocean.com/community/tutorials/flutter-state-management\n"
      ],
      "metadata": {
        "id": "4EG1rlWTztW8"
      }
    },
    {
      "cell_type": "markdown",
      "source": [
        "## Contador com `Provider`\n",
        "\n",
        "Mais um exemplo utilizando o pacote `Provider`.\n",
        "\n",
        "Primeiro, precisamos adicionar as dependências no arquivo `pubspec.yaml` do Flutter:"
      ],
      "metadata": {
        "id": "g9-L7R-Zyxy2"
      }
    },
    {
      "cell_type": "code",
      "source": [
        "dependencies:\n",
        "  flutter:\n",
        "    sdk: flutter\n",
        "  provider: ^6.0.1\n"
      ],
      "metadata": {
        "id": "ds0pi8Mqy6oF"
      },
      "execution_count": null,
      "outputs": []
    },
    {
      "cell_type": "markdown",
      "source": [
        "Agora, vamos criar os arquivos necessários para o exemplo:\n",
        "\n",
        "`counter.dart ` que efine a classe Counter que representa o estado do contador."
      ],
      "metadata": {
        "id": "Iac4uvllzAuc"
      }
    },
    {
      "cell_type": "code",
      "source": [
        "import 'package:flutter/foundation.dart';\n",
        "\n",
        "class Counter extends ChangeNotifier {\n",
        "  int _value = 0;\n",
        "\n",
        "  int get value => _value;\n",
        "\n",
        "  void increment() {\n",
        "    _value++;\n",
        "    notifyListeners();\n",
        "  }\n",
        "\n",
        "  void decrement() {\n",
        "    _value--;\n",
        "    notifyListeners();\n",
        "  }\n",
        "}\n"
      ],
      "metadata": {
        "id": "llgr_WHAzIbq"
      },
      "execution_count": null,
      "outputs": []
    },
    {
      "cell_type": "markdown",
      "source": [
        "No arquivo `main.dart` iremos configurar a interface do usuário e a integração com o Counter usando o `Provider`."
      ],
      "metadata": {
        "id": "3MhZqInszNwa"
      }
    },
    {
      "cell_type": "code",
      "source": [
        "import 'package:flutter/material.dart';\n",
        "import 'package:provider/provider.dart';\n",
        "import 'counter.dart';\n",
        "\n",
        "void main() {\n",
        "  runApp(MyApp());\n",
        "}\n",
        "\n",
        "class MyApp extends StatelessWidget {\n",
        "  @override\n",
        "  Widget build(BuildContext context) {\n",
        "    return ChangeNotifierProvider(\n",
        "      create: (context) => Counter(),\n",
        "      child: MaterialApp(\n",
        "        title: 'Provider Counter',\n",
        "        home: CounterPage(),\n",
        "      ),\n",
        "    );\n",
        "  }\n",
        "}\n",
        "\n",
        "class CounterPage extends StatelessWidget {\n",
        "  @override\n",
        "  Widget build(BuildContext context) {\n",
        "    final counter = Provider.of<Counter>(context);\n",
        "\n",
        "    return Scaffold(\n",
        "      appBar: AppBar(title: Text('Counter')),\n",
        "      body: Center(\n",
        "        child: Text(\n",
        "          'Value: ${counter.value}',\n",
        "          style: TextStyle(fontSize: 24),\n",
        "        ),\n",
        "      ),\n",
        "      floatingActionButton: Column(\n",
        "        mainAxisAlignment: MainAxisAlignment.end,\n",
        "        crossAxisAlignment: CrossAxisAlignment.end,\n",
        "        children: [\n",
        "          FloatingActionButton(\n",
        "            child: Icon(Icons.add),\n",
        "            onPressed: () => counter.increment(),\n",
        "          ),\n",
        "          SizedBox(height: 10),\n",
        "          FloatingActionButton(\n",
        "            child: Icon(Icons.remove),\n",
        "            onPressed: () => counter.decrement(),\n",
        "          ),\n",
        "        ],\n",
        "      ),\n",
        "    );\n",
        "  }\n",
        "}\n"
      ],
      "metadata": {
        "id": "vBXy4wxszUHa"
      },
      "execution_count": null,
      "outputs": []
    },
    {
      "cell_type": "markdown",
      "source": [
        "Neste exemplo, temos a classe `Counter` que estende `ChangeNotifier` e possui um valor inteiro `_value`. Essa classe também tem os métodos **`increment() e decrement()`** que modificam o valor e chamam `notifyListeners()` para notificar os ouvintes sobre a alteração.\n",
        "\n",
        "Na classe `MyApp`, usamos o `ChangeNotifierProvider` para fornecer uma instância de Counter para toda a árvore de widgets. Em seguida, na classe `CounterPage`, usamos `Provider.of<Counter>(context)` para obter a instância de `Counter` e exibimos o valor na interface do usuário.\n",
        "\n",
        "Os botões de aumento e diminuição estão envoltos por `FloatingActionButton`, e ao serem pressionados, chamam os métodos `increment() e decrement() em counter`, respectivamente.\n",
        "\n",
        "Dessa forma, o estado do contador é gerenciado pelo `Provider`, e a interface do usuário é atualizada automaticamente sempre que houver mudanças no estado.\n",
        "\n"
      ],
      "metadata": {
        "id": "zE074RCKzzrl"
      }
    },
    {
      "cell_type": "markdown",
      "source": [
        "## Lista de Tarefas\n",
        "\n",
        "Iremos criar mais um exemplo com a biblioteca `Provider`. Neste exemplo iremos criar um app para apresentar tarefas e indicar se estas estão ou não concluídas."
      ],
      "metadata": {
        "id": "JL0UaIt61nou"
      }
    },
    {
      "cell_type": "code",
      "source": [
        "dependencies:\n",
        "  flutter:\n",
        "    sdk: flutter\n",
        "  provider: ^6.0.1"
      ],
      "metadata": {
        "id": "uvcPRs4E1mqn"
      },
      "execution_count": null,
      "outputs": []
    },
    {
      "cell_type": "markdown",
      "source": [
        "Crie um novo arquivo chamado `task.dart` para definir a classe Task que representará uma tarefa na lista:"
      ],
      "metadata": {
        "id": "s9RyNFaJ2E6j"
      }
    },
    {
      "cell_type": "code",
      "source": [
        "class Task {\n",
        "  final String title;\n",
        "  bool isCompleted;\n",
        "  bool isEditing;\n",
        "  String description;\n",
        "\n",
        "  Task(this.title, {this.isCompleted = false, this.isEditing = false, this.description = ''});\n",
        "}\n",
        "\n"
      ],
      "metadata": {
        "id": "RizU4sXK2HxD"
      },
      "execution_count": null,
      "outputs": []
    },
    {
      "cell_type": "markdown",
      "source": [
        "Agora, crie um novo arquivo chamado `task_provider.dart` para criar o provedor e gerenciar o estado da lista de tarefas"
      ],
      "metadata": {
        "id": "cqTN7vZr2Krq"
      }
    },
    {
      "cell_type": "code",
      "source": [
        "import 'package:flutter/foundation.dart';\n",
        "import 'task.dart';\n",
        "\n",
        "class TaskProvider extends ChangeNotifier {\n",
        "  List<Task> _tasks = [];\n",
        "\n",
        "  List<Task> get tasks => _tasks;\n",
        "\n",
        "  void addTask(String title) {\n",
        "    final newTask = Task(title);\n",
        "    _tasks.add(newTask);\n",
        "    notifyListeners();\n",
        "  }\n",
        "\n",
        "  void toggleTaskCompletion(int index) {\n",
        "    _tasks[index].isCompleted = !_tasks[index].isCompleted;\n",
        "    notifyListeners();\n",
        "  }\n",
        "\n",
        "  void removeTask(int index) {\n",
        "    _tasks.removeAt(index);\n",
        "    notifyListeners();\n",
        "  }\n",
        "\n",
        "  void startEditTask(int index) {\n",
        "    _tasks[index].isEditing = true;\n",
        "    notifyListeners();\n",
        "  }\n",
        "\n",
        "  void updateTaskDescription(int index, String newDescription) {\n",
        "    _tasks[index].description = newDescription;\n",
        "    notifyListeners();\n",
        "  }\n",
        "}\n"
      ],
      "metadata": {
        "id": "wMA7w4V62h_f"
      },
      "execution_count": null,
      "outputs": []
    },
    {
      "cell_type": "markdown",
      "source": [
        "No arquivo `main.dart`, vamos configurar a interface do usuário e integrar o TaskProvider usando o Provider:"
      ],
      "metadata": {
        "id": "031UA1sQ2peW"
      }
    },
    {
      "cell_type": "code",
      "source": [
        "import 'package:flutter/material.dart';\n",
        "import 'package:provider/provider.dart';\n",
        "import 'task_provider.dart';\n",
        "\n",
        "void main() {\n",
        "  runApp(MyApp());\n",
        "}\n",
        "\n",
        "class MyApp extends StatelessWidget {\n",
        "  @override\n",
        "  Widget build(BuildContext context) {\n",
        "    return ChangeNotifierProvider(\n",
        "      create: (context) => TaskProvider(),\n",
        "      child: MaterialApp(\n",
        "        title: 'Provider Todo List',\n",
        "        home: TodoListPage(),\n",
        "        debugShowCheckedModeBanner: false,\n",
        "      ),\n",
        "    );\n",
        "  }\n",
        "}\n",
        "\n",
        "class TodoListPage extends StatelessWidget {\n",
        "  @override\n",
        "  Widget build(BuildContext context) {\n",
        "    final taskProvider = Provider.of<TaskProvider>(context);\n",
        "    final tasks = taskProvider.tasks;\n",
        "\n",
        "    return Scaffold(\n",
        "      appBar: AppBar(title: Text('Todo List')),\n",
        "      body: ListView.builder(\n",
        "        itemCount: tasks.length,\n",
        "        itemBuilder: (context, index) {\n",
        "          final task = tasks[index];\n",
        "          return ListTile(\n",
        "            title: task.isEditing\n",
        "                ? TextField(\n",
        "                    onChanged: (value) => taskProvider.updateTaskDescription(index, value),\n",
        "                    controller: TextEditingController(text: task.description),\n",
        "                    onSubmitted: (_) {\n",
        "                      task.isEditing = false;\n",
        "                      taskProvider.updateTaskDescription(index, task.description);\n",
        "                    },\n",
        "                  )\n",
        "                : Text(task.title),\n",
        "            leading: Checkbox(\n",
        "              value: task.isCompleted,\n",
        "              onChanged: (_) => taskProvider.toggleTaskCompletion(index),\n",
        "            ),\n",
        "            trailing: Row(\n",
        "              mainAxisSize: MainAxisSize.min,\n",
        "              children: [\n",
        "                if (!task.isEditing)\n",
        "                  IconButton(\n",
        "                    icon: Icon(Icons.edit),\n",
        "                    onPressed: () => taskProvider.startEditTask(index),\n",
        "                  ),\n",
        "                IconButton(\n",
        "                  icon: Icon(Icons.delete),\n",
        "                  onPressed: () => taskProvider.removeTask(index),\n",
        "                ),\n",
        "              ],\n",
        "            ),\n",
        "          );\n",
        "        },\n",
        "      ),\n",
        "      floatingActionButton: FloatingActionButton(\n",
        "        child: Icon(Icons.add),\n",
        "        onPressed: () {\n",
        "          showDialog(\n",
        "            context: context,\n",
        "            builder: (context) {\n",
        "              String newTaskTitle;\n",
        "\n",
        "              return AlertDialog(\n",
        "                title: Text('Add Task'),\n",
        "                content: TextField(\n",
        "                  onChanged: (value) => newTaskTitle = value,\n",
        "                  decoration: InputDecoration(hintText: 'Task title'),\n",
        "                ),\n",
        "                actions: [\n",
        "                  TextButton(\n",
        "                    child: Text('Cancel'),\n",
        "                    onPressed: () => Navigator.pop(context),\n",
        "                  ),\n",
        "                  TextButton(\n",
        "                    child: Text('Add'),\n",
        "                    onPressed: () {\n",
        "                      if (newTaskTitle != null && newTaskTitle.isNotEmpty) {\n",
        "                        taskProvider.addTask(newTaskTitle);\n",
        "                        Navigator.pop(context);\n",
        "                      }\n",
        "                    },\n",
        "                  ),\n",
        "                ],\n",
        "              );\n",
        "            },\n",
        "          );\n",
        "        },\n",
        "      ),\n",
        "    );\n",
        "  }\n",
        "}\n",
        "\n"
      ],
      "metadata": {
        "id": "RDG0FWoQ2tSe"
      },
      "execution_count": null,
      "outputs": []
    },
    {
      "cell_type": "markdown",
      "source": [
        "O provider é uma biblioteca poderosa para gerenciar o estado em aplicativos `Flutter` de forma eficiente e escalável. Ele oferece uma maneira simples e flexível de fornecer e acessar dados em toda a árvore de widgets, facilitando a atualização da interface do usuário quando o estado muda.\n",
        "\n",
        "Com o `provider`, você pode evitar o acoplamento direto entre widgets e ter um código mais limpo e organizado. Além disso, ele oferece suporte a diferentes tipos de provedores, como` ChangeNotifierProvider, StreamProvider, FutureProvider` e muito mais, permitindo que você escolha a melhor opção de acordo com suas necessidades.\n",
        "\n",
        "Lembre-se de explorar a documentação oficial do provider para descobrir recursos adicionais e aprender mais sobre como tirar o máximo proveito dessa biblioteca em seus projetos Flutter."
      ],
      "metadata": {
        "id": "xHO0suCt0nyn"
      }
    },
    {
      "cell_type": "code",
      "source": [],
      "metadata": {
        "id": "I23uech_0nG3"
      },
      "execution_count": null,
      "outputs": []
    }
  ]
}
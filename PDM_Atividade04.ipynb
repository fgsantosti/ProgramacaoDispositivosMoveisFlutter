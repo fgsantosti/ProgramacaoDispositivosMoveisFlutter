{
  "nbformat": 4,
  "nbformat_minor": 0,
  "metadata": {
    "colab": {
      "provenance": [],
      "authorship_tag": "ABX9TyNVPA30EpbydJPi5la33LA9",
      "include_colab_link": true
    },
    "kernelspec": {
      "name": "python3",
      "display_name": "Python 3"
    },
    "language_info": {
      "name": "python"
    }
  },
  "cells": [
    {
      "cell_type": "markdown",
      "metadata": {
        "id": "view-in-github",
        "colab_type": "text"
      },
      "source": [
        "<a href=\"https://colab.research.google.com/github/fgsantosti/programacaodispositivosmoveis/blob/main/PDM_Atividade04.ipynb\" target=\"_parent\"><img src=\"https://colab.research.google.com/assets/colab-badge.svg\" alt=\"Open In Colab\"/></a>"
      ]
    },
    {
      "cell_type": "markdown",
      "source": [
        "### **Desafio: Aplicação com API Local em Dart e Flutter**\n",
        "\n",
        "---\n",
        "\n",
        "### **Objetivo**\n",
        "Os alunos devem criar uma aplicação que:\n",
        "1. **API Local**: Desenvolva uma API REST simples usando Dart, que permita o envio e consumo de dados.\n",
        "2. **Aplicativo Flutter**: O aplicativo Flutter deverá consumir dados da API, exibir imagens e textos, além de enviar informações (imagens e textos) de volta para a API.\n",
        "\n",
        "---\n",
        "\n",
        "### **Requisitos**\n",
        "\n",
        "#### **API Local (Dart)**\n",
        "1. **Endpoints**:\n",
        "   - `GET /posts`: Retorna uma lista de posts contendo texto e imagem (URL).\n",
        "   - `POST /posts`: Recebe um post contendo texto e uma imagem codificada em base64 e adiciona ao servidor.\n",
        "\n",
        "2. **Estrutura do Post**:\n",
        "   ```json\n",
        "   {\n",
        "     \"id\": 1,\n",
        "     \"texto\": \"Exemplo de post\",\n",
        "     \"imagem\": \"base64string\" // Ou URL no caso do GET\n",
        "   }\n",
        "   ```\n",
        "\n",
        "3. **Armazenamento**:\n",
        "   - A API deve armazenar os dados em memória (simples lista ou mapa) para simular um banco de dados.\n",
        "\n",
        "4. **Execução**:\n",
        "   - A API deve rodar localmente na máquina do aluno em uma porta específica (exemplo: `http://localhost:8080`).\n",
        "\n",
        "---\n",
        "\n",
        "#### **Aplicativo Flutter**\n",
        "1. **Funcionalidades**:\n",
        "   - **Exibir Dados**:\n",
        "     - Liste os posts retornados pela API (texto e imagem).\n",
        "   - **Enviar Dados**:\n",
        "     - Permita que o usuário envie um texto e uma imagem (capturada via câmera ou galeria) para a API.\n",
        "     - O envio deve ser feito no formato JSON com a imagem codificada em base64.\n",
        "\n",
        "2. **Telas**:\n",
        "   - **Tela Principal**: Mostra a lista de posts recebidos da API.\n",
        "   - **Tela de Envio**: Permite o envio de um novo post (imagem e texto).\n",
        "\n",
        "3. **Interações**:\n",
        "   - O usuário pode clicar em um botão para \"Adicionar Post\", preencher o texto e selecionar uma imagem.\n",
        "   - A aplicação envia os dados via **POST** para a API.\n",
        "\n",
        "---\n",
        "\n",
        "### **Critérios de Avaliação**\n",
        "1. **Funcionamento Completo**:\n",
        "   - API local em Dart funcionando corretamente.\n",
        "   - Aplicativo Flutter consumindo e enviando dados com sucesso.\n",
        "\n",
        "2. **Organização do Código**:\n",
        "   - Separação de responsabilidades (API e Flutter).\n",
        "   - Código bem estruturado e comentado.\n",
        "\n",
        "3. **Interface Amigável**:\n",
        "   - A aplicação Flutter deve ter uma interface simples e funcional.\n",
        "\n",
        "4. **Entrega**:\n",
        "   - Código no GitHub com instruções claras no README para rodar tanto a API Dart quanto o aplicativo Flutter.\n",
        "\n",
        "---\n",
        "\n",
        "### **Entrega Final**\n",
        "Os alunos deverão entregar:\n",
        "1. **Código-Fonte**: Disponível no GitHub, separado por pastas para API e Flutter.\n",
        "2. **README**: Com instruções de execução da API e do aplicativo Flutter.\n",
        "3. **Vídeo Demonstrativo**: Explicando o funcionamento da API e do aplicativo.\n",
        "\n",
        "---\n",
        "\n",
        "### **Dicas**\n",
        "- **Dart API**: Utilize o pacote `shelf` para criar uma API REST simples.\n",
        "- **Flutter**: Use pacotes como `http` para consumo da API e `image_picker` para seleção de imagens.\n",
        "- **Base64**: Implemente a conversão de imagens para base64 no Flutter ao enviar os dados.\n",
        "\n",
        "---\n",
        "\n",
        "Com esse desafio, os alunos terão experiência em:\n",
        "- Desenvolvimento de APIs com Dart.\n",
        "- Consumo e envio de dados via HTTP em Flutter.\n",
        "- Gerenciamento de imagens (upload e exibição).\n",
        "- Integração entre backend (Dart) e frontend (Flutter). 🚀"
      ],
      "metadata": {
        "id": "aZ-IU8dQ4t0S"
      }
    }
  ]
}
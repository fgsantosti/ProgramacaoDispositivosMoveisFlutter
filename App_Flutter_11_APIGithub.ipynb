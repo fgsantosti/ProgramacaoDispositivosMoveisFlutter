{
  "nbformat": 4,
  "nbformat_minor": 0,
  "metadata": {
    "colab": {
      "provenance": [],
      "authorship_tag": "ABX9TyMLs26TK3x0I6Fjz/XzF+1U",
      "include_colab_link": true
    },
    "kernelspec": {
      "name": "python3",
      "display_name": "Python 3"
    },
    "language_info": {
      "name": "python"
    }
  },
  "cells": [
    {
      "cell_type": "markdown",
      "metadata": {
        "id": "view-in-github",
        "colab_type": "text"
      },
      "source": [
        "<a href=\"https://colab.research.google.com/github/fgsantosti/ProgramacaoDispositivosMoveisFlutter/blob/main/App_Flutter_11_APIGithub.ipynb\" target=\"_parent\"><img src=\"https://colab.research.google.com/assets/colab-badge.svg\" alt=\"Open In Colab\"/></a>"
      ]
    },
    {
      "cell_type": "markdown",
      "source": [
        "```dart\n",
        "import 'dart:convert';\n",
        "import 'package:flutter/material.dart';\n",
        "import 'package:http/http.dart' as http;\n",
        "\n",
        "void main() {\n",
        "  runApp(MyApp());\n",
        "}\n",
        "\n",
        "class MyApp extends StatelessWidget {\n",
        "  @override\n",
        "  Widget build(BuildContext context) {\n",
        "    return MaterialApp(\n",
        "      title: 'GitHub Profile Viewer',\n",
        "      theme: ThemeData(\n",
        "        primarySwatch: Colors.blue,\n",
        "      ),\n",
        "      home: MyHomePage(),\n",
        "    );\n",
        "  }\n",
        "}\n",
        "\n",
        "class MyHomePage extends StatefulWidget {\n",
        "  @override\n",
        "  _MyHomePageState createState() => _MyHomePageState();\n",
        "}\n",
        "\n",
        "class _MyHomePageState extends State<MyHomePage> {\n",
        "  TextEditingController _usernameController = TextEditingController();\n",
        "  Map<String, dynamic>? _userData;\n",
        "\n",
        "  Future<void> _fetchUserData() async {\n",
        "    final username = _usernameController.text.trim();\n",
        "    if (username.isEmpty) return;\n",
        "\n",
        "    final response =\n",
        "        await http.get(Uri.parse('https://api.github.com/users/$username'));\n",
        "\n",
        "    if (response.statusCode == 200) {\n",
        "      setState(() {\n",
        "        _userData = json.decode(response.body);\n",
        "      });\n",
        "    } else {\n",
        "      // Trate os casos em que a requisição não foi bem-sucedida\n",
        "      print('Erro na requisição: ${response.statusCode}');\n",
        "    }\n",
        "  }\n",
        "\n",
        "  @override\n",
        "  Widget build(BuildContext context) {\n",
        "    return Scaffold(\n",
        "      resizeToAvoidBottomInset: false,\n",
        "      appBar: AppBar(\n",
        "        title: Text('GitHub Profile Viewer'),\n",
        "      ),\n",
        "      body: Padding(\n",
        "        padding: const EdgeInsets.all(16.0),\n",
        "        child: Column(\n",
        "          crossAxisAlignment: CrossAxisAlignment.stretch,\n",
        "          children: [\n",
        "            TextField(\n",
        "              controller: _usernameController,\n",
        "              decoration: InputDecoration(\n",
        "                  labelText: 'Digite o nome de usuário do GitHub'),\n",
        "            ),\n",
        "            SizedBox(height: 16),\n",
        "            ElevatedButton(\n",
        "              onPressed: _fetchUserData,\n",
        "              child: Text('Buscar Informações'),\n",
        "            ),\n",
        "            SizedBox(height: 16),\n",
        "            if (_userData != null)\n",
        "              Column(\n",
        "                crossAxisAlignment: CrossAxisAlignment.start,\n",
        "                children: [\n",
        "                  Text('Nome: ${_userData!['name']}'),\n",
        "                  Text('Login: ${_userData!['login']}'),\n",
        "                  Text('Bio: ${_userData!['bio'] ?? 'N/A'}'),\n",
        "                  Text('Seguidores: ${_userData!['followers']}'),\n",
        "                  Text('Repositórios Públicos: ${_userData!['public_repos']}'),\n",
        "                ],\n",
        "              ),\n",
        "          ],\n",
        "        ),\n",
        "      ),\n",
        "    );\n",
        "  }\n",
        "}\n",
        "\n",
        "```"
      ],
      "metadata": {
        "id": "eRzmXOtMY18p"
      }
    }
  ]
}
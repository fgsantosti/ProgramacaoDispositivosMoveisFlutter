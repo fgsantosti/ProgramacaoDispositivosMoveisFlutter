{
  "nbformat": 4,
  "nbformat_minor": 0,
  "metadata": {
    "colab": {
      "provenance": [],
      "authorship_tag": "ABX9TyOvs3mBD3PJbHZl0QcWjQ5k",
      "include_colab_link": true
    },
    "kernelspec": {
      "name": "python3",
      "display_name": "Python 3"
    },
    "language_info": {
      "name": "python"
    }
  },
  "cells": [
    {
      "cell_type": "markdown",
      "metadata": {
        "id": "view-in-github",
        "colab_type": "text"
      },
      "source": [
        "<a href=\"https://colab.research.google.com/github/fgsantosti/ProgramacaoDispositivosMoveisFlutter/blob/main/Flutter_App_01.ipynb\" target=\"_parent\"><img src=\"https://colab.research.google.com/assets/colab-badge.svg\" alt=\"Open In Colab\"/></a>"
      ]
    },
    {
      "cell_type": "markdown",
      "source": [
        "Antes de tudo vamos entender o funcionamento de dois novos widget. \n",
        "\n",
        "\n",
        "1.   ListView\n",
        "2.   ListView.builder\n",
        "\n",
        "ListView é o widget de rolagem mais usado. Ele exibe seus filhos um após o outro na direção de rolagem. No eixo transversal, os filhos são obrigados a preencher o ListView.\n",
        "\n",
        "O construtor ListView.builder usa um IndexedWidgetBuilder, que cria os filhos sob demanda. Este construtor é apropriado para exibições de lista com um número grande (ou infinito) de filhos porque o construtor é chamado apenas para os filhos que estão realmente visíveis. ref. https://api.flutter.dev/flutter/widgets/ListView-class.html\n",
        "\n",
        "\n",
        "Vamos criar um arquivo chamado list_view.dart onde ele ficará da seguinte forma. "
      ],
      "metadata": {
        "id": "MkuLjemk4nyW"
      }
    },
    {
      "cell_type": "code",
      "source": [
        "import 'package:flutter/material.dart';\n",
        "\n",
        "class ListViewTest extends StatefulWidget {\n",
        "  const ListViewTest({Key? key, required this.title}) : super(key: key);\n",
        "  final String title;\n",
        "  @override\n",
        "  State<ListViewTest> createState() => _ListViewTestState();\n",
        "}\n",
        "\n",
        "class _ListViewTestState extends State<ListViewTest> {\n",
        "  final lista = <String>[];\n",
        "  final textoControler = TextEditingController();\n",
        "\n",
        "  @override\n",
        "  Widget build(BuildContext context) {\n",
        "    return Scaffold(\n",
        "      appBar: AppBar(\n",
        "        title: const Text(\"Lista de Nomes\"),\n",
        "      ),\n",
        "      body: Column(\n",
        "        children: [\n",
        "          Expanded(\n",
        "            child: ListView(\n",
        "              padding: const EdgeInsets.all(8),\n",
        "              children: <Widget>[\n",
        "                Container(\n",
        "                  height: 50,\n",
        "                  color: Colors.amber[600],\n",
        "                  child: const Center(child: Text('Entry A')),\n",
        "                ),\n",
        "                Container(\n",
        "                  height: 50,\n",
        "                  color: Colors.amber[500],\n",
        "                  child: const Center(child: Text('Entry B')),\n",
        "                ),\n",
        "                Container(\n",
        "                  height: 50,\n",
        "                  color: Colors.amber[100],\n",
        "                  child: const Center(child: Text('Entry C')),\n",
        "                ),\n",
        "              ],\n",
        "            ),\n",
        "          )\n",
        "        ],\n",
        "      ),\n",
        "    );\n",
        "  }\n",
        "}\n"
      ],
      "metadata": {
        "id": "qq0Wxrml9WU9"
      },
      "execution_count": null,
      "outputs": []
    },
    {
      "cell_type": "code",
      "source": [
        "//ListView.builder\n",
        "final List<String> entries = <String>['A', 'B', 'C'];\n",
        "final List<int> colorCodes = <int>[600, 500, 100];\n",
        "\n",
        "Widget build(BuildContext context) {\n",
        "  return ListView.builder(\n",
        "    padding: const EdgeInsets.all(8),\n",
        "    itemCount: entries.length,\n",
        "    itemBuilder: (BuildContext context, int index) {\n",
        "      return Container(\n",
        "        height: 50,\n",
        "        color: Colors.amber[colorCodes[index]],\n",
        "        child: Center(child: Text('Entry ${entries[index]}')),\n",
        "      );\n",
        "    }\n",
        "  );\n",
        "}"
      ],
      "metadata": {
        "id": "MXj0T12T9bvv"
      },
      "execution_count": null,
      "outputs": []
    },
    {
      "cell_type": "code",
      "source": [
        "//ListView.separated\n",
        "final List<String> entries = <String>['A', 'B', 'C'];\n",
        "final List<int> colorCodes = <int>[600, 500, 100];\n",
        "\n",
        "Widget build(BuildContext context) {\n",
        "  return ListView.separated(\n",
        "    padding: const EdgeInsets.all(8),\n",
        "    itemCount: entries.length,\n",
        "    itemBuilder: (BuildContext context, int index) {\n",
        "      return Container(\n",
        "        height: 50,\n",
        "        color: Colors.amber[colorCodes[index]],\n",
        "        child: Center(child: Text('Entry ${entries[index]}')),\n",
        "      );\n",
        "    },\n",
        "    separatorBuilder: (BuildContext context, int index) => const Divider(),\n",
        "  );\n",
        "}"
      ],
      "metadata": {
        "id": "BLmwq0QJ-R_e"
      },
      "execution_count": null,
      "outputs": []
    },
    {
      "cell_type": "code",
      "source": [
        "import 'package:flutter/material.dart';\n",
        "\n",
        "class ListViewTest extends StatefulWidget {\n",
        "  const ListViewTest({Key? key, required this.title}) : super(key: key);\n",
        "  final String title;\n",
        "  @override\n",
        "  State<ListViewTest> createState() => _ListViewTestState();\n",
        "}\n",
        "\n",
        "class _ListViewTestState extends State<ListViewTest> {\n",
        "  final lista = <String>[];\n",
        "  final textoControler = TextEditingController();\n",
        "\n",
        "  @override\n",
        "  Widget build(BuildContext context) {\n",
        "    return Scaffold(\n",
        "        appBar: AppBar(\n",
        "          title: const Text(\"Lista de Nomes\"),\n",
        "        ),\n",
        "        body: SizedBox(\n",
        "          width: double.infinity,\n",
        "          height: double.infinity,\n",
        "          child: SingleChildScrollView(\n",
        "            child: Column(\n",
        "              children: [\n",
        "                for (var i = 0; i < 10; i++)\n",
        "                  Container(\n",
        "                    width: double.infinity,\n",
        "                    height: 80,\n",
        "                    margin: const EdgeInsets.all(8),\n",
        "                    color: Colors.red[100],\n",
        "                  ),\n",
        "              ],\n",
        "            ),\n",
        "          ),\n",
        "        ));\n",
        "  }\n",
        "}\n"
      ],
      "metadata": {
        "id": "GSgek6IhuAIm"
      },
      "execution_count": null,
      "outputs": []
    },
    {
      "cell_type": "markdown",
      "source": [
        "Vamos criar app bem simples para adicionarmos um item e ele aparecer logo abaixo do formulário, tudo isso em uma única página. \n",
        "\n",
        "## Passo 1\n",
        "\n",
        "Vamos criar nosso método principal (`main`) no nosso arquivo `main.dart`. "
      ],
      "metadata": {
        "id": "20LD7pm2Y3yZ"
      }
    },
    {
      "cell_type": "code",
      "execution_count": null,
      "metadata": {
        "id": "T6mhXjxvYtbW"
      },
      "outputs": [],
      "source": [
        "import 'package:flutter/material.dart';\n",
        "import 'my_app.dart';\n",
        "\n",
        "void main() {\n",
        "  runApp(const MyApp());\n",
        "}\n"
      ]
    },
    {
      "cell_type": "markdown",
      "source": [
        "No arquivo estamos fazendo as chamadas de dois arquivos inicialmente, o primeiro é do nosso material desing, o segundo é o do arquivo `my_app.dart` que contém nossa classe `MyApp` que extende da `StatelessWidget`."
      ],
      "metadata": {
        "id": "sKp3QdB2dsBN"
      }
    },
    {
      "cell_type": "markdown",
      "source": [
        "## Passo 2\n",
        "Agora vamos criar a classe MyApp que extende de StatelessWidget. "
      ],
      "metadata": {
        "id": "RiGP_fmZePMS"
      }
    },
    {
      "cell_type": "code",
      "source": [
        "import 'package:flutter/material.dart';\n",
        "import 'home.dart';\n",
        "\n",
        "class MyApp extends StatelessWidget {\n",
        "  const MyApp({Key? key}) : super(key: key);\n",
        "\n",
        "  // This widget is the root of your application.\n",
        "  @override\n",
        "  Widget build(BuildContext context) {\n",
        "    return MaterialApp(\n",
        "      title: 'Flutter Demo',\n",
        "      theme: ThemeData(\n",
        "        primarySwatch: Colors.blue, //cor azul como primaria para todo app\n",
        "      ),\n",
        "      home: const MyHomePage(title: 'App 01'),\n",
        "    );\n",
        "  }\n",
        "}\n"
      ],
      "metadata": {
        "id": "cvw6z2OReaac"
      },
      "execution_count": null,
      "outputs": []
    },
    {
      "cell_type": "markdown",
      "source": [
        "No código acima temos a classe MyApp que tem um método chamado `Widget build` ele é responsável por desenhar na tela do mobile algo referente a seu `return`, nesse caso temos como retorno o `MaterialApp` que é um widget de conveniência que envolve vários widgets normalmente necessários para aplicativos que implementam o Material Design. ref. https://api.flutter.dev/flutter/material/MaterialApp-class.html\n",
        "\n",
        "Veja que nele chamamos o arquivo `home.dart` onde temos a classe `MyHomePage` que extende de `StatefulWidget`. Essa mesma classe é chamada no atributo `home` que recebe como padrão um widget. "
      ],
      "metadata": {
        "id": "g-3l0q_ofb_a"
      }
    },
    {
      "cell_type": "markdown",
      "source": [
        "## Passo 03\n",
        "\n",
        "Como passo fundamental agora vamos começar a desenhar a nossa tela princial, para isso vamos criar o arquivo `home.dart`. Como ele é um arquivo um pouco maior que os anteriores vamos explica-lo por partes. "
      ],
      "metadata": {
        "id": "yVOigmTMg3f-"
      }
    },
    {
      "cell_type": "code",
      "source": [
        "import 'package:flutter/material.dart';\n",
        "\n",
        "class MyHomePage extends StatefulWidget {\n",
        "  const MyHomePage({Key? key, required this.title}) : super(key: key);\n",
        "  final String title;\n",
        "  @override\n",
        "  State<MyHomePage> createState() => _MyHomePageState();\n",
        "}\n",
        "\n",
        "class _MyHomePageState extends State<MyHomePage> {\n",
        "  final lista = <String>[];\n",
        "  final textoControler = TextEditingController();\n",
        "\n",
        "  @override\n",
        "  Widget build(BuildContext context) {\n",
        "    return Scaffold(\n",
        "      appBar: AppBar(\n",
        "        title: const Text(\"Lista de Nomes\"),\n",
        "      ),\n",
        "      body: Column(\n",
        "        children: [\n",
        "          Padding(\n",
        "            padding: const EdgeInsets.all(8.0),\n",
        "            child: Row(\n",
        "              children: [\n",
        "                Expanded(\n",
        "                    child: TextField(\n",
        "                  controller: textoControler,\n",
        "                )),\n",
        "                IconButton(\n",
        "                  onPressed: () {\n",
        "                    final text = textoControler.text;\n",
        "                    setState(() {\n",
        "                      lista.add(text);\n",
        "                    });\n",
        "                    textoControler.clear();\n",
        "                  },\n",
        "                  icon: Icon(Icons.add),\n",
        "                )\n",
        "              ],\n",
        "            ),\n",
        "          ),\n",
        "          Expanded(\n",
        "            child: ListView.builder(\n",
        "                itemCount: lista.length,\n",
        "                itemBuilder: (context, index) {\n",
        "                  final item = lista[index];\n",
        "                  return ListTile(\n",
        "                    title: Text(item),\n",
        "                  );\n",
        "                }),\n",
        "          ),\n",
        "        ],\n",
        "      ), \n",
        "    );\n",
        "  }\n",
        "}\n"
      ],
      "metadata": {
        "id": "EsUOZhA2hgwL"
      },
      "execution_count": null,
      "outputs": []
    },
    {
      "cell_type": "markdown",
      "source": [
        "Vemos iniciamente que o arquivo tem duas classes. Uma chamda `MyHomePage` e outra `_MyHomePageState`. A primeira é a classe tem a responbilidade de desenhar na tela, já a segunda tem a responsabilidade de gerenciar esse estado. Isso respeita um dos principios do **SOLID** (Single-responsibility principle. O princípio da responsabilidade única tem como regra que uma classe deve possuir uma, e apenas uma, responsabilidade). "
      ],
      "metadata": {
        "id": "GnM1u6zbiWe2"
      }
    },
    {
      "cell_type": "code",
      "source": [
        "class MyHomePage extends StatefulWidget {\n",
        "  const MyHomePage({Key? key, required this.title}) : super(key: key);\n",
        "  final String title;\n",
        "  @override\n",
        "  State<MyHomePage> createState() => _MyHomePageState();\n",
        "}"
      ],
      "metadata": {
        "id": "38qP33KWicLe"
      },
      "execution_count": null,
      "outputs": []
    },
    {
      "cell_type": "markdown",
      "source": [
        "A segunda classe é onde temos todos os nossos widgets e podemos construir nossa aplicação como quisermos. O flutter ele deixa você criar telas incriveis e bem interativas. "
      ],
      "metadata": {
        "id": "8tVjDZrWkJYL"
      }
    },
    {
      "cell_type": "code",
      "source": [
        "lass _MyHomePageState extends State<MyHomePage> {\n",
        "  final lista = <String>[];\n",
        "  final textoControler = TextEditingController();\n",
        "\n",
        "  @override\n",
        "  Widget build(BuildContext context) {\n",
        "    return Scaffold(\n",
        "      appBar: AppBar(\n",
        "        title: const Text(\"Lista de Nomes\"),\n",
        "      ),\n",
        "      body: Column(\n",
        "        children: [\n",
        "          Padding(\n",
        "            padding: const EdgeInsets.all(8.0),\n",
        "            child: Row(\n",
        "              children: [\n",
        "                Expanded(\n",
        "                    child: TextField(\n",
        "                  controller: textoControler,\n",
        "                )),\n",
        "                IconButton(\n",
        "                  onPressed: () {\n",
        "                    final text = textoControler.text;\n",
        "                    setState(() {\n",
        "                      lista.add(text);\n",
        "                    });\n",
        "                    textoControler.clear();\n",
        "                  },\n",
        "                  icon: Icon(Icons.add),\n",
        "                )\n",
        "              ],\n",
        "            ),\n",
        "          ),\n",
        "          Expanded(\n",
        "            child: ListView.builder(\n",
        "                itemCount: lista.length,\n",
        "                itemBuilder: (context, index) {\n",
        "                  final item = lista[index];\n",
        "                  return ListTile(\n",
        "                    title: Text(item),\n",
        "                  );\n",
        "                }),\n",
        "          ),\n",
        "        ],\n",
        "      ),\n",
        "    );\n",
        "  }\n",
        "}\n"
      ],
      "metadata": {
        "id": "X-e_qqKikgZF"
      },
      "execution_count": null,
      "outputs": []
    },
    {
      "cell_type": "markdown",
      "source": [
        "\n",
        "\n",
        "*   Inicialmente no código são criadas duas váriaveis, primeiro criamos a nossa lista `final lista = <String>[]` que irá armazenar as informações que iremos inserir no uso do app. \n",
        "\n",
        "*  Segundo criamos a váriavel `final textoControler = TextEditingController()` que irá receber e controlar as informações que serão inseridas no nosso formulário.\n",
        "\n",
        "Seguindo no código temos a nossa `Widget build` que tem como retorno o widget `Scaffold` que implementa a estrutura básica de layout visual do Material Design, desenhando folhas inferiores. ref. https://api.flutter.dev/flutter/material/Scaffold-class.html\n",
        "No Scaffold temos o AppBar, e no atributo body recebemos os widget que irão compor a tela principal. \n",
        "\n",
        "\n",
        "A estrutura do app fica da segunte forma:\n",
        "\n"
      ],
      "metadata": {
        "id": "Of-3O3hNkt1t"
      }
    },
    {
      "cell_type": "markdown",
      "source": [
        ">Scaffold\n",
        ">>AppBar\n",
        "\n",
        ">>Column\n",
        "\n",
        ">>>Padding\n",
        "\n",
        ">>>>Row\n",
        "\n",
        ">>>>>Expanded\n",
        "\n",
        ">>>>>IconButton\n",
        "\n",
        ">>>Expanded\n",
        "\n",
        ">>>> ListView.builder\n"
      ],
      "metadata": {
        "id": "---T8TFtoAtZ"
      }
    },
    {
      "cell_type": "markdown",
      "source": [
        "O `Padding` esta dentro do `children` de `Column` ficará da segunte forma: "
      ],
      "metadata": {
        "id": "yoDzQePtqCGL"
      }
    },
    {
      "cell_type": "code",
      "source": [
        "          Padding(\n",
        "            padding: const EdgeInsets.all(8.0),\n",
        "            child: Row(\n",
        "              children: [\n",
        "                Expanded(\n",
        "                  child: TextField(\n",
        "                  controller: textoControler,\n",
        "                )),\n",
        "                IconButton(\n",
        "                  onPressed: () {\n",
        "                    final text = textoControler.text;\n",
        "                    setState(() {\n",
        "                      lista.add(text);\n",
        "                    });\n",
        "                    textoControler.clear();\n",
        "                  },\n",
        "                  icon: Icon(Icons.add),\n",
        "                )\n",
        "              ],\n",
        "            ),\n",
        "          ),"
      ],
      "metadata": {
        "id": "lXdMVv5hnqhp"
      },
      "execution_count": null,
      "outputs": []
    },
    {
      "cell_type": "markdown",
      "source": [
        "Na tela você irá vializar um formulário de texto e um botão com o simbolo de um +. Para exibirmos as informações que serão inseridas na tela iremos usar o ListView.builder. "
      ],
      "metadata": {
        "id": "r1qQdhr3qm3_"
      }
    },
    {
      "cell_type": "code",
      "source": [
        "Expanded(\n",
        "            child: ListView.builder(\n",
        "                itemCount: lista.length,\n",
        "                itemBuilder: (context, index) {\n",
        "                  final item = lista[index];\n",
        "                  return ListTile(\n",
        "                    title: Text(item),\n",
        "                  );\n",
        "                }),\n",
        "          ),"
      ],
      "metadata": {
        "id": "wEPZx7T6n_js"
      },
      "execution_count": null,
      "outputs": []
    }
  ]
}
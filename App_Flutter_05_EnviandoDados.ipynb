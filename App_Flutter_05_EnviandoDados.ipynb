{
  "nbformat": 4,
  "nbformat_minor": 0,
  "metadata": {
    "colab": {
      "provenance": [],
      "authorship_tag": "ABX9TyM4jUuWlktBqwFANTCZwo+G",
      "include_colab_link": true
    },
    "kernelspec": {
      "name": "python3",
      "display_name": "Python 3"
    },
    "language_info": {
      "name": "python"
    }
  },
  "cells": [
    {
      "cell_type": "markdown",
      "metadata": {
        "id": "view-in-github",
        "colab_type": "text"
      },
      "source": [
        "<a href=\"https://colab.research.google.com/github/fgsantosti/ProgramacaoDispositivosMoveisFlutter/blob/main/Flutter_App_05_EnviandoDados.ipynb\" target=\"_parent\"><img src=\"https://colab.research.google.com/assets/colab-badge.svg\" alt=\"Open In Colab\"/></a>"
      ]
    },
    {
      "cell_type": "markdown",
      "source": [
        "Freqüentemente, você não deseja apenas navegar para uma nova tela, mas também passar dados para a tela. Por exemplo, você pode querer passar informações sobre o item que foi tocado.\n",
        "\n",
        "As telas são apenas widgets. Neste exemplo, crie uma lista de tarefas. Quando uma tarefa é tocada, navegue até uma nova tela (widget) que exibe informações sobre a tarefa. "
      ],
      "metadata": {
        "id": "cRW_FYvNF8Jd"
      }
    },
    {
      "cell_type": "code",
      "execution_count": null,
      "metadata": {
        "id": "SdLE0pOsFq4p"
      },
      "outputs": [],
      "source": [
        "//todo.dart\n",
        "class Todo {\n",
        "  final String title;\n",
        "  final String description;\n",
        "\n",
        "  const Todo(this.title, this.description);\n",
        "}\n"
      ]
    },
    {
      "cell_type": "code",
      "source": [
        "//todo_screen.dart\n",
        "import 'package:flutter/material.dart';\n",
        "\n",
        "import 'detail_screen.dart';\n",
        "import 'todo.dart';\n",
        "\n",
        "class TodosScreen extends StatelessWidget {\n",
        "  const TodosScreen({super.key, required this.todos});\n",
        "\n",
        "  final List<Todo> todos;\n",
        "\n",
        "  @override\n",
        "  Widget build(BuildContext context) {\n",
        "    return Scaffold(\n",
        "      appBar: AppBar(\n",
        "        title: const Text('Todos'),\n",
        "      ),\n",
        "      body: ListView.builder(\n",
        "        itemCount: todos.length,\n",
        "        itemBuilder: (context, index) {\n",
        "          return ListTile(\n",
        "            title: Text(todos[index].title),\n",
        "            // When a user taps the ListTile, navigate to the DetailScreen.\n",
        "            // Notice that you're not only creating a DetailScreen, you're\n",
        "            // also passing the current todo through to it.\n",
        "            onTap: () {\n",
        "              Navigator.push(\n",
        "                context,\n",
        "                MaterialPageRoute(\n",
        "                  builder: (context) => DetailScreen(todo: todos[index]),\n",
        "                ),\n",
        "              );\n",
        "            },\n",
        "          );\n",
        "        },\n",
        "      ),\n",
        "    );\n",
        "  }\n",
        "}\n"
      ],
      "metadata": {
        "id": "mnFyXH6lGfw4"
      },
      "execution_count": null,
      "outputs": []
    },
    {
      "cell_type": "code",
      "source": [
        "//detail_screen.dart\n",
        "import 'package:flutter/material.dart';\n",
        "\n",
        "import 'todo.dart';\n",
        "\n",
        "class DetailScreen extends StatelessWidget {\n",
        "  // In the constructor, require a Todo.\n",
        "  const DetailScreen({super.key, required this.todo});\n",
        "\n",
        "  // Declare a field that holds the Todo.\n",
        "  final Todo todo;\n",
        "\n",
        "  @override\n",
        "  Widget build(BuildContext context) {\n",
        "    // Use the Todo to create the UI.\n",
        "    return Scaffold(\n",
        "      appBar: AppBar(\n",
        "        title: Text(todo.title),\n",
        "      ),\n",
        "      body: Center(\n",
        "        child: Padding(\n",
        "          padding: const EdgeInsets.all(16.0),\n",
        "          child: Text(todo.description),\n",
        "        ),\n",
        "      ),\n",
        "    );\n",
        "  }\n",
        "}\n"
      ],
      "metadata": {
        "id": "iqq1iyxmGwpI"
      },
      "execution_count": null,
      "outputs": []
    },
    {
      "cell_type": "code",
      "source": [
        "//main.dart\n",
        "import 'package:flutter/material.dart';\n",
        "import 'todo.dart';\n",
        "import 'todo_screen.dart';\n",
        "\n",
        "void main() {\n",
        "  runApp(\n",
        "    MaterialApp(\n",
        "      title: 'Passing Data',\n",
        "      home: TodosScreen(\n",
        "        todos: List.generate(\n",
        "          20,\n",
        "          (i) => Todo(\n",
        "            'Todo $i',\n",
        "            'A description of what needs to be done for Todo $i',\n",
        "          ),\n",
        "        ),\n",
        "      ),\n",
        "    ),\n",
        "  );\n",
        "}\n"
      ],
      "metadata": {
        "id": "XtpmWHUuG3Dg"
      },
      "execution_count": null,
      "outputs": []
    }
  ]
}

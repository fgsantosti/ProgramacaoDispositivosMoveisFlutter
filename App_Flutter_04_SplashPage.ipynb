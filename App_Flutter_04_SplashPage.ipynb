{
  "nbformat": 4,
  "nbformat_minor": 0,
  "metadata": {
    "colab": {
      "provenance": [],
      "authorship_tag": "ABX9TyOEG77ESJL81hDnOQQ1hEe2",
      "include_colab_link": true
    },
    "kernelspec": {
      "name": "python3",
      "display_name": "Python 3"
    },
    "language_info": {
      "name": "python"
    }
  },
  "cells": [
    {
      "cell_type": "markdown",
      "metadata": {
        "id": "view-in-github",
        "colab_type": "text"
      },
      "source": [
        "<a href=\"https://colab.research.google.com/github/fgsantosti/ProgramacaoDispositivosMoveisFlutter/blob/main/Flutter_App_04_SplashPage.ipynb\" target=\"_parent\"><img src=\"https://colab.research.google.com/assets/colab-badge.svg\" alt=\"Open In Colab\"/></a>"
      ]
    },
    {
      "cell_type": "markdown",
      "source": [
        "# Tela de Splash\n",
        "\n",
        "## Exemplo 01\n",
        "\n",
        "No primeiro exemplo de tela de splash utilizamos a biblioteca `easy_splash_screen` é um pacote flutter para implementar facilmente a tela inicial no aplicativo.\n",
        "\n",
        "ref. https://pub.dev/packages/easy_splash_screen"
      ],
      "metadata": {
        "id": "w75jbCfRlNul"
      }
    },
    {
      "cell_type": "code",
      "source": [
        "#pubspec.yaml\n",
        "...\n",
        "dependencies:\n",
        "  easy_splash_screen: ^1.0.4\n",
        "  flutter:\n",
        "    sdk: flutter\n",
        "..."
      ],
      "metadata": {
        "id": "J6OMrRBLmvmb"
      },
      "execution_count": null,
      "outputs": []
    },
    {
      "cell_type": "code",
      "execution_count": null,
      "metadata": {
        "id": "H8z6GlZ5lDQd"
      },
      "outputs": [],
      "source": [
        "#main.dart\n",
        "\n",
        "import 'package:easy_splash_screen/easy_splash_screen.dart';\n",
        "import 'package:flutter/material.dart';\n",
        "\n",
        "import 'home.dart';\n",
        "\n",
        "void main() {\n",
        "  runApp(MyApp());\n",
        "}\n",
        "\n",
        "class MyApp extends StatelessWidget {\n",
        "  // This widget is the root of your application.\n",
        "  @override\n",
        "  Widget build(BuildContext context) {\n",
        "    return MaterialApp(\n",
        "      title: 'Flutter Demo',\n",
        "      theme: ThemeData(\n",
        "        primarySwatch: Colors.blue,\n",
        "      ),\n",
        "      // home: SplashPage(),\n",
        "      initialRoute: '/',\n",
        "      routes: {\n",
        "        '/': (context) => SplashPage(),\n",
        "        // '/': (context) => SplashFuturePage(),\n",
        "        '/home': (context) => HomePage(),\n",
        "      },\n",
        "    );\n",
        "  }\n",
        "}\n",
        "\n",
        "class SplashPage extends StatefulWidget {\n",
        "  SplashPage({Key? key}) : super(key: key);\n",
        "\n",
        "  @override\n",
        "  _SplashPageState createState() => _SplashPageState();\n",
        "}\n",
        "\n",
        "class _SplashPageState extends State<SplashPage> {\n",
        "  @override\n",
        "  Widget build(BuildContext context) {\n",
        "    return EasySplashScreen(\n",
        "      logo: Image.network(\n",
        "        'https://upload.wikimedia.org/wikipedia/commons/thumb/2/23/Instituto_Federal_do_Piau%C3%AD_-_Marca_Vertical_2015.svg/1200px-Instituto_Federal_do_Piau%C3%AD_-_Marca_Vertical_2015.svg.png',\n",
        "        height: 500,\n",
        "        width: 500,\n",
        "      ),\n",
        "      backgroundColor: Colors.grey.shade400,\n",
        "      showLoader: true,\n",
        "      loadingText: Text(\"Loading...\"),\n",
        "      navigator: HomePage(),\n",
        "      durationInSeconds: 5,\n",
        "    );\n",
        "  }\n",
        "}\n"
      ]
    },
    {
      "cell_type": "code",
      "source": [
        "#home.dart\n",
        "import 'package:flutter/material.dart';\n",
        "\n",
        "class HomePage extends StatefulWidget {\n",
        "  const HomePage({super.key});\n",
        "\n",
        "  @override\n",
        "  State<HomePage> createState() => _HomePageState();\n",
        "}\n",
        "\n",
        "class _HomePageState extends State<HomePage> {\n",
        "  @override\n",
        "  Widget build(BuildContext context) {\n",
        "    return Scaffold(\n",
        "      appBar: AppBar(title: Text('Tela Inicial')),\n",
        "      backgroundColor: Colors.greenAccent,\n",
        "    );\n",
        "  }\n",
        "}\n"
      ],
      "metadata": {
        "id": "HGBcYq1FlvOt"
      },
      "execution_count": null,
      "outputs": []
    },
    {
      "cell_type": "markdown",
      "source": [
        "## Exemplo 02\n",
        "\n",
        "Para criar o exemplo 2 utilizamos a biblioteca `animated_splash_screen`\n",
        "\n",
        "https://pub.dev/packages/animated_splash_screen"
      ],
      "metadata": {
        "id": "j3r-mGupszmN"
      }
    },
    {
      "cell_type": "code",
      "source": [
        "#pubspec.yaml\n",
        "dependencies:\n",
        "  flutter:\n",
        "    sdk: flutter\n",
        "  animated_splash_screen: ^1.3.0\n",
        "\n",
        "assets:\n",
        "    - imagens/\n",
        "  #   - images/a_dot_ham.jpeg\n"
      ],
      "metadata": {
        "id": "185gpsdntAQk"
      },
      "execution_count": null,
      "outputs": []
    },
    {
      "cell_type": "code",
      "source": [
        "#main.dart\n",
        "\n",
        "import 'package:animated_splash_screen/animated_splash_screen.dart';\n",
        "import 'package:flutter/material.dart';\n",
        "\n",
        "void main() => runApp(MyApp());\n",
        "\n",
        "class MyApp extends StatelessWidget {\n",
        "  @override\n",
        "  Widget build(BuildContext context) {\n",
        "    return MaterialApp(\n",
        "        title: 'Clean Code',\n",
        "        home: AnimatedSplashScreen(\n",
        "            duration: 3,\n",
        "            splash: 'imagens/ifpi.jpeg',\n",
        "            nextScreen: MainScreen(),\n",
        "            splashTransition: SplashTransition.fadeTransition,\n",
        "            backgroundColor: Colors.blue));\n",
        "  }\n",
        "}\n",
        "\n",
        "class MainScreen extends StatelessWidget {\n",
        "  @override\n",
        "  Widget build(BuildContext context) {\n",
        "    return Container(\n",
        "      color: Colors.redAccent,\n",
        "    );\n",
        "  }\n",
        "}\n"
      ],
      "metadata": {
        "id": "reyOQ4EPtJ59"
      },
      "execution_count": null,
      "outputs": []
    },
    {
      "cell_type": "markdown",
      "source": [
        "## Exemplo 03\n",
        "\n",
        "Para esse exemplo não será utilizado nenhuma biblioteca, 100% braço =)"
      ],
      "metadata": {
        "id": "gyWewJui5Tut"
      }
    },
    {
      "cell_type": "code",
      "source": [
        "import 'dart:core';\n",
        "import 'dart:async';\n",
        "import 'package:flutter/material.dart';\n",
        "\n",
        "class SplashScreen extends StatefulWidget {\n",
        "  final String nextRoute;\n",
        "  SplashScreen({required this.nextRoute});\n",
        "  @override\n",
        "  State<StatefulWidget> createState() => _SplashScreenState();\n",
        "}\n",
        "\n",
        "// Create a widget state\n",
        "class _SplashScreenState extends State<SplashScreen> {\n",
        "  // State initialization\n",
        "  @override\n",
        "  void initState() {\n",
        "    super.initState();\n",
        "    Timer(Duration(seconds: 2), () {\n",
        "      Navigator.of(context).pushReplacementNamed(widget.nextRoute);\n",
        "    });\n",
        "  }\n",
        "\n",
        "  // Widget creation\n",
        "  @override\n",
        "  Widget build(BuildContext context) {\n",
        "    return Scaffold(\n",
        "      backgroundColor: Colors.blue,\n",
        "      body: Center(\n",
        "        child: Column(\n",
        "          mainAxisAlignment: MainAxisAlignment.center,\n",
        "          children: <Widget>[Text('IFPIaNO'), Text(\"Seja bem vindo!\")],\n",
        "        ),\n",
        "      ),\n",
        "    );\n",
        "  }\n",
        "}\n"
      ],
      "metadata": {
        "id": "-UGUIlqB5Svu"
      },
      "execution_count": null,
      "outputs": []
    },
    {
      "cell_type": "code",
      "source": [
        "import 'package:flutter/material.dart';\n",
        "import 'splash_screen.dart';\n",
        "import 'home_screen.dart';\n",
        "\n",
        "// Application launch\n",
        "void main() => runApp(MyApp());\n",
        "\n",
        "class MyApp extends StatelessWidget {\n",
        "  final routes = <String, WidgetBuilder>{\n",
        "    '/Home': (BuildContext context) => HomeScreen(title: 'IFPI')\n",
        "  };\n",
        "\n",
        "  @override\n",
        "  Widget build(BuildContext context) {\n",
        "    return MaterialApp(\n",
        "      title: 'IFPI',\n",
        "      home: SplashScreen(nextRoute: '/Home'),\n",
        "      routes: routes,\n",
        "    );\n",
        "  }\n",
        "}\n"
      ],
      "metadata": {
        "id": "_kLL0C6451AV"
      },
      "execution_count": null,
      "outputs": []
    },
    {
      "cell_type": "code",
      "source": [
        "import 'dart:core';\n",
        "import 'package:flutter/material.dart';\n",
        "\n",
        "// The same widget as SplashScreen, just give it another title\n",
        "class HomeScreen extends StatefulWidget {\n",
        "  HomeScreen({required this.title});\n",
        "  final String title;\n",
        "\n",
        "  @override\n",
        "  _HomeScreenState createState() => _HomeScreenState();\n",
        "}\n",
        "\n",
        "// Creation a widget state\n",
        "class _HomeScreenState extends State<HomeScreen> {\n",
        "  // Unlike SplashScreen add AppBar\n",
        "  @override\n",
        "  Widget build(BuildContext context) {\n",
        "    return Scaffold(\n",
        "      appBar: AppBar(\n",
        "        title: Text(widget.title),\n",
        "      ),\n",
        "      body: Center(\n",
        "        child: Column(\n",
        "          mainAxisAlignment: MainAxisAlignment.center,\n",
        "          children: <Widget>[\n",
        "            Text(\n",
        "              'Home page',\n",
        "            ),\n",
        "          ],\n",
        "        ),\n",
        "      ),\n",
        "    );\n",
        "  }\n",
        "}\n"
      ],
      "metadata": {
        "id": "onZJM7rm51yW"
      },
      "execution_count": null,
      "outputs": []
    },
    {
      "cell_type": "code",
      "source": [],
      "metadata": {
        "id": "pdFcsTp45hk-"
      },
      "execution_count": null,
      "outputs": []
    },
    {
      "cell_type": "markdown",
      "source": [
        "\n",
        "**Outras**\n",
        "\n",
        "ref. https://pub.dev/packages/splashscreen"
      ],
      "metadata": {
        "id": "n8-PvQ_TtW89"
      }
    },
    {
      "cell_type": "code",
      "source": [],
      "metadata": {
        "id": "_yMimOfGtYfR"
      },
      "execution_count": null,
      "outputs": []
    }
  ]
}
